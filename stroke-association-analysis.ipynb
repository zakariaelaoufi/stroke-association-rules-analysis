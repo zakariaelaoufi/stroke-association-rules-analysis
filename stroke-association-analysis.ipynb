{
 "cells": [
  {
   "cell_type": "code",
   "id": "initial_id",
   "metadata": {
    "collapsed": true,
    "ExecuteTime": {
     "end_time": "2025-05-10T11:08:24.656179Z",
     "start_time": "2025-05-10T11:08:24.647174Z"
    }
   },
   "source": [
    "import pandas as pd\n",
    "import numpy as np\n",
    "import matplotlib.pyplot as plt\n",
    "import seaborn as sns\n",
    "sns.set_style(\"whitegrid\")\n",
    "\n",
    "import warnings\n",
    "warnings.filterwarnings(\"ignore\")"
   ],
   "outputs": [],
   "execution_count": 57
  },
  {
   "metadata": {
    "ExecuteTime": {
     "end_time": "2025-05-10T11:08:25.150002Z",
     "start_time": "2025-05-10T11:08:25.101638Z"
    }
   },
   "cell_type": "code",
   "source": [
    "stroke_df = pd.read_csv('./data/healthcare-dataset-stroke-data.csv')\n",
    "stroke_df.drop('id', axis=1, inplace=True)\n",
    "stroke_df.head()"
   ],
   "id": "e122255a3ffc892c",
   "outputs": [
    {
     "data": {
      "text/plain": [
       "   gender   age  hypertension  heart_disease ever_married      work_type  \\\n",
       "0    Male  67.0             0              1          Yes        Private   \n",
       "1  Female  61.0             0              0          Yes  Self-employed   \n",
       "2    Male  80.0             0              1          Yes        Private   \n",
       "3  Female  49.0             0              0          Yes        Private   \n",
       "4  Female  79.0             1              0          Yes  Self-employed   \n",
       "\n",
       "  Residence_type  avg_glucose_level   bmi   smoking_status  stroke  \n",
       "0          Urban             228.69  36.6  formerly smoked       1  \n",
       "1          Rural             202.21   NaN     never smoked       1  \n",
       "2          Rural             105.92  32.5     never smoked       1  \n",
       "3          Urban             171.23  34.4           smokes       1  \n",
       "4          Rural             174.12  24.0     never smoked       1  "
      ],
      "text/html": [
       "<div>\n",
       "<style scoped>\n",
       "    .dataframe tbody tr th:only-of-type {\n",
       "        vertical-align: middle;\n",
       "    }\n",
       "\n",
       "    .dataframe tbody tr th {\n",
       "        vertical-align: top;\n",
       "    }\n",
       "\n",
       "    .dataframe thead th {\n",
       "        text-align: right;\n",
       "    }\n",
       "</style>\n",
       "<table border=\"1\" class=\"dataframe\">\n",
       "  <thead>\n",
       "    <tr style=\"text-align: right;\">\n",
       "      <th></th>\n",
       "      <th>gender</th>\n",
       "      <th>age</th>\n",
       "      <th>hypertension</th>\n",
       "      <th>heart_disease</th>\n",
       "      <th>ever_married</th>\n",
       "      <th>work_type</th>\n",
       "      <th>Residence_type</th>\n",
       "      <th>avg_glucose_level</th>\n",
       "      <th>bmi</th>\n",
       "      <th>smoking_status</th>\n",
       "      <th>stroke</th>\n",
       "    </tr>\n",
       "  </thead>\n",
       "  <tbody>\n",
       "    <tr>\n",
       "      <th>0</th>\n",
       "      <td>Male</td>\n",
       "      <td>67.0</td>\n",
       "      <td>0</td>\n",
       "      <td>1</td>\n",
       "      <td>Yes</td>\n",
       "      <td>Private</td>\n",
       "      <td>Urban</td>\n",
       "      <td>228.69</td>\n",
       "      <td>36.6</td>\n",
       "      <td>formerly smoked</td>\n",
       "      <td>1</td>\n",
       "    </tr>\n",
       "    <tr>\n",
       "      <th>1</th>\n",
       "      <td>Female</td>\n",
       "      <td>61.0</td>\n",
       "      <td>0</td>\n",
       "      <td>0</td>\n",
       "      <td>Yes</td>\n",
       "      <td>Self-employed</td>\n",
       "      <td>Rural</td>\n",
       "      <td>202.21</td>\n",
       "      <td>NaN</td>\n",
       "      <td>never smoked</td>\n",
       "      <td>1</td>\n",
       "    </tr>\n",
       "    <tr>\n",
       "      <th>2</th>\n",
       "      <td>Male</td>\n",
       "      <td>80.0</td>\n",
       "      <td>0</td>\n",
       "      <td>1</td>\n",
       "      <td>Yes</td>\n",
       "      <td>Private</td>\n",
       "      <td>Rural</td>\n",
       "      <td>105.92</td>\n",
       "      <td>32.5</td>\n",
       "      <td>never smoked</td>\n",
       "      <td>1</td>\n",
       "    </tr>\n",
       "    <tr>\n",
       "      <th>3</th>\n",
       "      <td>Female</td>\n",
       "      <td>49.0</td>\n",
       "      <td>0</td>\n",
       "      <td>0</td>\n",
       "      <td>Yes</td>\n",
       "      <td>Private</td>\n",
       "      <td>Urban</td>\n",
       "      <td>171.23</td>\n",
       "      <td>34.4</td>\n",
       "      <td>smokes</td>\n",
       "      <td>1</td>\n",
       "    </tr>\n",
       "    <tr>\n",
       "      <th>4</th>\n",
       "      <td>Female</td>\n",
       "      <td>79.0</td>\n",
       "      <td>1</td>\n",
       "      <td>0</td>\n",
       "      <td>Yes</td>\n",
       "      <td>Self-employed</td>\n",
       "      <td>Rural</td>\n",
       "      <td>174.12</td>\n",
       "      <td>24.0</td>\n",
       "      <td>never smoked</td>\n",
       "      <td>1</td>\n",
       "    </tr>\n",
       "  </tbody>\n",
       "</table>\n",
       "</div>"
      ]
     },
     "execution_count": 58,
     "metadata": {},
     "output_type": "execute_result"
    }
   ],
   "execution_count": 58
  },
  {
   "metadata": {
    "ExecuteTime": {
     "end_time": "2025-05-10T11:08:25.377231Z",
     "start_time": "2025-05-10T11:08:25.334132Z"
    }
   },
   "cell_type": "code",
   "source": "stroke_df.describe()",
   "id": "ddfc781ce91de86b",
   "outputs": [
    {
     "data": {
      "text/plain": [
       "               age  hypertension  heart_disease  avg_glucose_level  \\\n",
       "count  5110.000000   5110.000000    5110.000000        5110.000000   \n",
       "mean     43.226614      0.097456       0.054012         106.147677   \n",
       "std      22.612647      0.296607       0.226063          45.283560   \n",
       "min       0.080000      0.000000       0.000000          55.120000   \n",
       "25%      25.000000      0.000000       0.000000          77.245000   \n",
       "50%      45.000000      0.000000       0.000000          91.885000   \n",
       "75%      61.000000      0.000000       0.000000         114.090000   \n",
       "max      82.000000      1.000000       1.000000         271.740000   \n",
       "\n",
       "               bmi       stroke  \n",
       "count  4909.000000  5110.000000  \n",
       "mean     28.893237     0.048728  \n",
       "std       7.854067     0.215320  \n",
       "min      10.300000     0.000000  \n",
       "25%      23.500000     0.000000  \n",
       "50%      28.100000     0.000000  \n",
       "75%      33.100000     0.000000  \n",
       "max      97.600000     1.000000  "
      ],
      "text/html": [
       "<div>\n",
       "<style scoped>\n",
       "    .dataframe tbody tr th:only-of-type {\n",
       "        vertical-align: middle;\n",
       "    }\n",
       "\n",
       "    .dataframe tbody tr th {\n",
       "        vertical-align: top;\n",
       "    }\n",
       "\n",
       "    .dataframe thead th {\n",
       "        text-align: right;\n",
       "    }\n",
       "</style>\n",
       "<table border=\"1\" class=\"dataframe\">\n",
       "  <thead>\n",
       "    <tr style=\"text-align: right;\">\n",
       "      <th></th>\n",
       "      <th>age</th>\n",
       "      <th>hypertension</th>\n",
       "      <th>heart_disease</th>\n",
       "      <th>avg_glucose_level</th>\n",
       "      <th>bmi</th>\n",
       "      <th>stroke</th>\n",
       "    </tr>\n",
       "  </thead>\n",
       "  <tbody>\n",
       "    <tr>\n",
       "      <th>count</th>\n",
       "      <td>5110.000000</td>\n",
       "      <td>5110.000000</td>\n",
       "      <td>5110.000000</td>\n",
       "      <td>5110.000000</td>\n",
       "      <td>4909.000000</td>\n",
       "      <td>5110.000000</td>\n",
       "    </tr>\n",
       "    <tr>\n",
       "      <th>mean</th>\n",
       "      <td>43.226614</td>\n",
       "      <td>0.097456</td>\n",
       "      <td>0.054012</td>\n",
       "      <td>106.147677</td>\n",
       "      <td>28.893237</td>\n",
       "      <td>0.048728</td>\n",
       "    </tr>\n",
       "    <tr>\n",
       "      <th>std</th>\n",
       "      <td>22.612647</td>\n",
       "      <td>0.296607</td>\n",
       "      <td>0.226063</td>\n",
       "      <td>45.283560</td>\n",
       "      <td>7.854067</td>\n",
       "      <td>0.215320</td>\n",
       "    </tr>\n",
       "    <tr>\n",
       "      <th>min</th>\n",
       "      <td>0.080000</td>\n",
       "      <td>0.000000</td>\n",
       "      <td>0.000000</td>\n",
       "      <td>55.120000</td>\n",
       "      <td>10.300000</td>\n",
       "      <td>0.000000</td>\n",
       "    </tr>\n",
       "    <tr>\n",
       "      <th>25%</th>\n",
       "      <td>25.000000</td>\n",
       "      <td>0.000000</td>\n",
       "      <td>0.000000</td>\n",
       "      <td>77.245000</td>\n",
       "      <td>23.500000</td>\n",
       "      <td>0.000000</td>\n",
       "    </tr>\n",
       "    <tr>\n",
       "      <th>50%</th>\n",
       "      <td>45.000000</td>\n",
       "      <td>0.000000</td>\n",
       "      <td>0.000000</td>\n",
       "      <td>91.885000</td>\n",
       "      <td>28.100000</td>\n",
       "      <td>0.000000</td>\n",
       "    </tr>\n",
       "    <tr>\n",
       "      <th>75%</th>\n",
       "      <td>61.000000</td>\n",
       "      <td>0.000000</td>\n",
       "      <td>0.000000</td>\n",
       "      <td>114.090000</td>\n",
       "      <td>33.100000</td>\n",
       "      <td>0.000000</td>\n",
       "    </tr>\n",
       "    <tr>\n",
       "      <th>max</th>\n",
       "      <td>82.000000</td>\n",
       "      <td>1.000000</td>\n",
       "      <td>1.000000</td>\n",
       "      <td>271.740000</td>\n",
       "      <td>97.600000</td>\n",
       "      <td>1.000000</td>\n",
       "    </tr>\n",
       "  </tbody>\n",
       "</table>\n",
       "</div>"
      ]
     },
     "execution_count": 59,
     "metadata": {},
     "output_type": "execute_result"
    }
   ],
   "execution_count": 59
  },
  {
   "metadata": {
    "ExecuteTime": {
     "end_time": "2025-05-10T11:08:27.995305Z",
     "start_time": "2025-05-10T11:08:25.520572Z"
    }
   },
   "cell_type": "code",
   "source": [
    "stroke_df.hist(figsize=(16, 12))\n",
    "# plt.xticks(rotation=15)\n",
    "plt.tight_layout()\n",
    "plt.show()"
   ],
   "id": "3c440e9cc28be6b2",
   "outputs": [
    {
     "data": {
      "text/plain": [
       "<Figure size 1600x1200 with 6 Axes>"
      ],
      "image/png": "[encoded data removed]"
     },
     "metadata": {},
     "output_type": "display_data"
    }
   ],
   "execution_count": 60
  },
  {
   "metadata": {
    "ExecuteTime": {
     "end_time": "2025-05-10T11:08:28.271165Z",
     "start_time": "2025-05-10T11:08:28.001336Z"
    }
   },
   "cell_type": "code",
   "source": [
    "stroke_counts = stroke_df['stroke'].value_counts().sort_index()\n",
    "\n",
    "plt.figure(figsize=(8, 5))\n",
    "stroke_counts.plot(kind='bar', color=['skyblue', 'salmon'])\n",
    "\n",
    "plt.title('Stroke Distribution', fontsize=16)\n",
    "plt.xlabel('Stroke (0 = No, 1 = Yes)', fontsize=12)\n",
    "plt.ylabel('Count', fontsize=12)\n",
    "plt.tight_layout()\n",
    "plt.show()"
   ],
   "id": "f5e340b15840755d",
   "outputs": [
    {
     "data": {
      "text/plain": [
       "<Figure size 800x500 with 1 Axes>"
      ],
      "image/png": "[encoded data removed]"
     },
     "metadata": {},
     "output_type": "display_data"
    }
   ],
   "execution_count": 61
  },
  {
   "metadata": {
    "ExecuteTime": {
     "end_time": "2025-05-10T11:08:28.288171Z",
     "start_time": "2025-05-10T11:08:28.274180Z"
    }
   },
   "cell_type": "code",
   "source": "stroke_df.isnull().sum()",
   "id": "2fff859b82f7a1c6",
   "outputs": [
    {
     "data": {
      "text/plain": [
       "gender                 0\n",
       "age                    0\n",
       "hypertension           0\n",
       "heart_disease          0\n",
       "ever_married           0\n",
       "work_type              0\n",
       "Residence_type         0\n",
       "avg_glucose_level      0\n",
       "bmi                  201\n",
       "smoking_status         0\n",
       "stroke                 0\n",
       "dtype: int64"
      ]
     },
     "execution_count": 62,
     "metadata": {},
     "output_type": "execute_result"
    }
   ],
   "execution_count": 62
  },
  {
   "metadata": {
    "ExecuteTime": {
     "end_time": "2025-05-10T11:08:28.299877Z",
     "start_time": "2025-05-10T11:08:28.291422Z"
    }
   },
   "cell_type": "code",
   "source": "stroke_df['bmi'] = stroke_df['bmi'].fillna(stroke_df['bmi'].median())",
   "id": "c1d056f963dceee8",
   "outputs": [],
   "execution_count": 63
  },
  {
   "metadata": {
    "ExecuteTime": {
     "end_time": "2025-05-10T11:08:28.317633Z",
     "start_time": "2025-05-10T11:08:28.304890Z"
    }
   },
   "cell_type": "code",
   "source": "stroke_df.isnull().sum()",
   "id": "41d1d9539d2ef3db",
   "outputs": [
    {
     "data": {
      "text/plain": [
       "gender               0\n",
       "age                  0\n",
       "hypertension         0\n",
       "heart_disease        0\n",
       "ever_married         0\n",
       "work_type            0\n",
       "Residence_type       0\n",
       "avg_glucose_level    0\n",
       "bmi                  0\n",
       "smoking_status       0\n",
       "stroke               0\n",
       "dtype: int64"
      ]
     },
     "execution_count": 64,
     "metadata": {},
     "output_type": "execute_result"
    }
   ],
   "execution_count": 64
  },
  {
   "metadata": {
    "ExecuteTime": {
     "end_time": "2025-05-10T11:08:28.336128Z",
     "start_time": "2025-05-10T11:08:28.320641Z"
    }
   },
   "cell_type": "code",
   "source": "stroke_df.duplicated().sum()",
   "id": "8d20504f49153519",
   "outputs": [
    {
     "data": {
      "text/plain": [
       "0"
      ]
     },
     "execution_count": 65,
     "metadata": {},
     "output_type": "execute_result"
    }
   ],
   "execution_count": 65
  },
  {
   "metadata": {
    "ExecuteTime": {
     "end_time": "2025-05-10T11:08:28.673514Z",
     "start_time": "2025-05-10T11:08:28.339139Z"
    }
   },
   "cell_type": "code",
   "source": [
    "plt.figure(figsize=(10,16))\n",
    "stroke_df.plot(kind='box')\n",
    "plt.xticks(rotation=15)\n",
    "plt.tight_layout()\n",
    "plt.show()"
   ],
   "id": "69d92822ab4cb7e7",
   "outputs": [
    {
     "data": {
      "text/plain": [
       "<Figure size 1000x1600 with 0 Axes>"
      ]
     },
     "metadata": {},
     "output_type": "display_data"
    },
    {
     "data": {
      "text/plain": [
       "<Figure size 640x480 with 1 Axes>"
      ],
      "image/png": "[encoded data removed]"
     },
     "metadata": {},
     "output_type": "display_data"
    }
   ],
   "execution_count": 66
  },
  {
   "metadata": {
    "ExecuteTime": {
     "end_time": "2025-05-10T11:08:28.685541Z",
     "start_time": "2025-05-10T11:08:28.676527Z"
    }
   },
   "cell_type": "code",
   "source": [
    "def log_transform(df, cols):\n",
    "    data = df.copy()\n",
    "    for col in cols:\n",
    "        data[col] = np.log(df[col] + df[col].min())\n",
    "    return data"
   ],
   "id": "e6ab0d83489063a8",
   "outputs": [],
   "execution_count": 67
  },
  {
   "metadata": {
    "ExecuteTime": {
     "end_time": "2025-05-10T11:08:28.701591Z",
     "start_time": "2025-05-10T11:08:28.689553Z"
    }
   },
   "cell_type": "code",
   "source": "log_stroke = log_transform(stroke_df, ['bmi', 'avg_glucose_level'])",
   "id": "afce1223f3ffb9a5",
   "outputs": [],
   "execution_count": 68
  },
  {
   "metadata": {
    "ExecuteTime": {
     "end_time": "2025-05-10T11:08:29.054986Z",
     "start_time": "2025-05-10T11:08:28.704604Z"
    }
   },
   "cell_type": "code",
   "source": [
    "plt.figure(figsize=(10,16))\n",
    "log_stroke.plot(kind='box')\n",
    "plt.xticks(rotation=15)\n",
    "plt.tight_layout()\n",
    "plt.show()"
   ],
   "id": "578f81908c6f5f83",
   "outputs": [
    {
     "data": {
      "text/plain": [
       "<Figure size 1000x1600 with 0 Axes>"
      ]
     },
     "metadata": {},
     "output_type": "display_data"
    },
    {
     "data": {
      "text/plain": [
       "<Figure size 640x480 with 1 Axes>"
      ],
      "image/png": "[encoded data removed]"
     },
     "metadata": {},
     "output_type": "display_data"
    }
   ],
   "execution_count": 69
  },
  {
   "metadata": {
    "ExecuteTime": {
     "end_time": "2025-05-10T11:08:29.072868Z",
     "start_time": "2025-05-10T11:08:29.058001Z"
    }
   },
   "cell_type": "code",
   "source": [
    "age_bins = [17, 35, 50, 65, 100]  \n",
    "age_label = ['Young Adults', 'Adults', 'Middle-Aged', 'Elderly']  \n",
    "log_stroke['age_segmentation'] = pd.cut(log_stroke['age'], bins=age_bins, labels=age_label)\n",
    "log_stroke['age_segmentation'] = log_stroke['age_segmentation'].astype('object')"
   ],
   "id": "e9d397050dd6385d",
   "outputs": [],
   "execution_count": 70
  },
  {
   "metadata": {
    "ExecuteTime": {
     "end_time": "2025-05-10T11:08:29.094234Z",
     "start_time": "2025-05-10T11:08:29.075880Z"
    }
   },
   "cell_type": "code",
   "source": [
    "log_bmi_bins = [0, np.log(18.5), np.log(25), np.log(30), np.inf]\n",
    "bmi_labels = [\n",
    "    'Underweight',\n",
    "    'Normal',\n",
    "    'Overweight',\n",
    "    'Obese_Class'\n",
    "]\n",
    "\n",
    "log_stroke['bmi_segmentation'] = pd.cut(log_stroke['bmi'], bins=log_bmi_bins, labels=bmi_labels)\n",
    "log_stroke['bmi_segmentation'] = log_stroke['bmi_segmentation'].astype('object')"
   ],
   "id": "30cb95958c27e9b3",
   "outputs": [],
   "execution_count": 71
  },
  {
   "metadata": {
    "ExecuteTime": {
     "end_time": "2025-05-10T11:08:29.112892Z",
     "start_time": "2025-05-10T11:08:29.097254Z"
    }
   },
   "cell_type": "code",
   "source": [
    "log_glucose_bins = [0, np.log(100), np.log(125), np.log(200), np.inf]\n",
    "\n",
    "glucose_labels = [\n",
    "    'Normal',               # Normal fasting glucose\n",
    "    'Prediabetes',       # Impaired fasting glucose\n",
    "    'Diabetes',          # Diabetes range\n",
    "    'Severe_Hyperglycemia'  # Critical/emergency range\n",
    "]\n",
    "\n",
    "log_stroke['glucose_segmentation'] = pd.cut(log_stroke['avg_glucose_level'], bins=log_glucose_bins, labels=glucose_labels)\n",
    "log_stroke['glucose_segmentation'] = log_stroke['glucose_segmentation'].astype('object')"
   ],
   "id": "13d229f5012bb841",
   "outputs": [],
   "execution_count": 72
  },
  {
   "metadata": {
    "ExecuteTime": {
     "end_time": "2025-05-10T11:08:29.148034Z",
     "start_time": "2025-05-10T11:08:29.122904Z"
    }
   },
   "cell_type": "code",
   "source": "log_stroke.head()",
   "id": "ae18a93941d26557",
   "outputs": [
    {
     "data": {
      "text/plain": [
       "   gender   age  hypertension  heart_disease ever_married      work_type  \\\n",
       "0    Male  67.0             0              1          Yes        Private   \n",
       "1  Female  61.0             0              0          Yes  Self-employed   \n",
       "2    Male  80.0             0              1          Yes        Private   \n",
       "3  Female  49.0             0              0          Yes        Private   \n",
       "4  Female  79.0             1              0          Yes  Self-employed   \n",
       "\n",
       "  Residence_type  avg_glucose_level       bmi   smoking_status  stroke  \\\n",
       "0          Urban           5.648305  3.848018  formerly smoked       1   \n",
       "1          Rural           5.550359  3.648057     never smoked       1   \n",
       "2          Rural           5.081653  3.756538     never smoked       1   \n",
       "3          Urban           5.422082  3.799974           smokes       1   \n",
       "4          Rural           5.434769  3.535145     never smoked       1   \n",
       "\n",
       "  age_segmentation bmi_segmentation  glucose_segmentation  \n",
       "0          Elderly      Obese_Class  Severe_Hyperglycemia  \n",
       "1      Middle-Aged      Obese_Class  Severe_Hyperglycemia  \n",
       "2          Elderly      Obese_Class              Diabetes  \n",
       "3           Adults      Obese_Class  Severe_Hyperglycemia  \n",
       "4          Elderly      Obese_Class  Severe_Hyperglycemia  "
      ],
      "text/html": [
       "<div>\n",
       "<style scoped>\n",
       "    .dataframe tbody tr th:only-of-type {\n",
       "        vertical-align: middle;\n",
       "    }\n",
       "\n",
       "    .dataframe tbody tr th {\n",
       "        vertical-align: top;\n",
       "    }\n",
       "\n",
       "    .dataframe thead th {\n",
       "        text-align: right;\n",
       "    }\n",
       "</style>\n",
       "<table border=\"1\" class=\"dataframe\">\n",
       "  <thead>\n",
       "    <tr style=\"text-align: right;\">\n",
       "      <th></th>\n",
       "      <th>gender</th>\n",
       "      <th>age</th>\n",
       "      <th>hypertension</th>\n",
       "      <th>heart_disease</th>\n",
       "      <th>ever_married</th>\n",
       "      <th>work_type</th>\n",
       "      <th>Residence_type</th>\n",
       "      <th>avg_glucose_level</th>\n",
       "      <th>bmi</th>\n",
       "      <th>smoking_status</th>\n",
       "      <th>stroke</th>\n",
       "      <th>age_segmentation</th>\n",
       "      <th>bmi_segmentation</th>\n",
       "      <th>glucose_segmentation</th>\n",
       "    </tr>\n",
       "  </thead>\n",
       "  <tbody>\n",
       "    <tr>\n",
       "      <th>0</th>\n",
       "      <td>Male</td>\n",
       "      <td>67.0</td>\n",
       "      <td>0</td>\n",
       "      <td>1</td>\n",
       "      <td>Yes</td>\n",
       "      <td>Private</td>\n",
       "      <td>Urban</td>\n",
       "      <td>5.648305</td>\n",
       "      <td>3.848018</td>\n",
       "      <td>formerly smoked</td>\n",
       "      <td>1</td>\n",
       "      <td>Elderly</td>\n",
       "      <td>Obese_Class</td>\n",
       "      <td>Severe_Hyperglycemia</td>\n",
       "    </tr>\n",
       "    <tr>\n",
       "      <th>1</th>\n",
       "      <td>Female</td>\n",
       "      <td>61.0</td>\n",
       "      <td>0</td>\n",
       "      <td>0</td>\n",
       "      <td>Yes</td>\n",
       "      <td>Self-employed</td>\n",
       "      <td>Rural</td>\n",
       "      <td>5.550359</td>\n",
       "      <td>3.648057</td>\n",
       "      <td>never smoked</td>\n",
       "      <td>1</td>\n",
       "      <td>Middle-Aged</td>\n",
       "      <td>Obese_Class</td>\n",
       "      <td>Severe_Hyperglycemia</td>\n",
       "    </tr>\n",
       "    <tr>\n",
       "      <th>2</th>\n",
       "      <td>Male</td>\n",
       "      <td>80.0</td>\n",
       "      <td>0</td>\n",
       "      <td>1</td>\n",
       "      <td>Yes</td>\n",
       "      <td>Private</td>\n",
       "      <td>Rural</td>\n",
       "      <td>5.081653</td>\n",
       "      <td>3.756538</td>\n",
       "      <td>never smoked</td>\n",
       "      <td>1</td>\n",
       "      <td>Elderly</td>\n",
       "      <td>Obese_Class</td>\n",
       "      <td>Diabetes</td>\n",
       "    </tr>\n",
       "    <tr>\n",
       "      <th>3</th>\n",
       "      <td>Female</td>\n",
       "      <td>49.0</td>\n",
       "      <td>0</td>\n",
       "      <td>0</td>\n",
       "      <td>Yes</td>\n",
       "      <td>Private</td>\n",
       "      <td>Urban</td>\n",
       "      <td>5.422082</td>\n",
       "      <td>3.799974</td>\n",
       "      <td>smokes</td>\n",
       "      <td>1</td>\n",
       "      <td>Adults</td>\n",
       "      <td>Obese_Class</td>\n",
       "      <td>Severe_Hyperglycemia</td>\n",
       "    </tr>\n",
       "    <tr>\n",
       "      <th>4</th>\n",
       "      <td>Female</td>\n",
       "      <td>79.0</td>\n",
       "      <td>1</td>\n",
       "      <td>0</td>\n",
       "      <td>Yes</td>\n",
       "      <td>Self-employed</td>\n",
       "      <td>Rural</td>\n",
       "      <td>5.434769</td>\n",
       "      <td>3.535145</td>\n",
       "      <td>never smoked</td>\n",
       "      <td>1</td>\n",
       "      <td>Elderly</td>\n",
       "      <td>Obese_Class</td>\n",
       "      <td>Severe_Hyperglycemia</td>\n",
       "    </tr>\n",
       "  </tbody>\n",
       "</table>\n",
       "</div>"
      ]
     },
     "execution_count": 73,
     "metadata": {},
     "output_type": "execute_result"
    }
   ],
   "execution_count": 73
  },
  {
   "metadata": {},
   "cell_type": "markdown",
   "source": "## Data Encoding",
   "id": "e5d494887600614d"
  },
  {
   "metadata": {
    "ExecuteTime": {
     "end_time": "2025-05-10T11:08:29.199223Z",
     "start_time": "2025-05-10T11:08:29.152047Z"
    }
   },
   "cell_type": "code",
   "source": [
    "from sklearn.compose import ColumnTransformer\n",
    "from sklearn.preprocessing import OneHotEncoder\n",
    "\n",
    "to_one_hot = log_stroke.select_dtypes(include='object').columns.tolist()\n",
    "\n",
    "transformer = ColumnTransformer([\n",
    "    ('onehot', OneHotEncoder(drop='first', sparse_output=False), to_one_hot)  \n",
    "], remainder='passthrough', verbose_feature_names_out=False).set_output(transform=\"pandas\")\n",
    "\n",
    "stroke_transformed = transformer.fit_transform(log_stroke)"
   ],
   "id": "10efddf97e70607e",
   "outputs": [],
   "execution_count": 74
  },
  {
   "metadata": {
    "ExecuteTime": {
     "end_time": "2025-05-10T11:08:29.244770Z",
     "start_time": "2025-05-10T11:08:29.203240Z"
    }
   },
   "cell_type": "code",
   "source": "stroke_transformed.head()",
   "id": "de975576292296a3",
   "outputs": [
    {
     "data": {
      "text/plain": [
       "   gender_Male  gender_Other  ever_married_Yes  work_type_Never_worked  \\\n",
       "0          1.0           0.0               1.0                     0.0   \n",
       "1          0.0           0.0               1.0                     0.0   \n",
       "2          1.0           0.0               1.0                     0.0   \n",
       "3          0.0           0.0               1.0                     0.0   \n",
       "4          0.0           0.0               1.0                     0.0   \n",
       "\n",
       "   work_type_Private  work_type_Self-employed  work_type_children  \\\n",
       "0                1.0                      0.0                 0.0   \n",
       "1                0.0                      1.0                 0.0   \n",
       "2                1.0                      0.0                 0.0   \n",
       "3                1.0                      0.0                 0.0   \n",
       "4                0.0                      1.0                 0.0   \n",
       "\n",
       "   Residence_type_Urban  smoking_status_formerly smoked  \\\n",
       "0                   1.0                             1.0   \n",
       "1                   0.0                             0.0   \n",
       "2                   0.0                             0.0   \n",
       "3                   1.0                             0.0   \n",
       "4                   0.0                             0.0   \n",
       "\n",
       "   smoking_status_never smoked  ...  bmi_segmentation_Obese_Class  \\\n",
       "0                          0.0  ...                           1.0   \n",
       "1                          1.0  ...                           1.0   \n",
       "2                          1.0  ...                           1.0   \n",
       "3                          0.0  ...                           1.0   \n",
       "4                          1.0  ...                           1.0   \n",
       "\n",
       "   bmi_segmentation_Overweight  glucose_segmentation_Prediabetes  \\\n",
       "0                          0.0                               0.0   \n",
       "1                          0.0                               0.0   \n",
       "2                          0.0                               0.0   \n",
       "3                          0.0                               0.0   \n",
       "4                          0.0                               0.0   \n",
       "\n",
       "   glucose_segmentation_Severe_Hyperglycemia   age  hypertension  \\\n",
       "0                                        1.0  67.0             0   \n",
       "1                                        1.0  61.0             0   \n",
       "2                                        0.0  80.0             0   \n",
       "3                                        1.0  49.0             0   \n",
       "4                                        1.0  79.0             1   \n",
       "\n",
       "   heart_disease  avg_glucose_level       bmi  stroke  \n",
       "0              1           5.648305  3.848018       1  \n",
       "1              0           5.550359  3.648057       1  \n",
       "2              1           5.081653  3.756538       1  \n",
       "3              0           5.422082  3.799974       1  \n",
       "4              0           5.434769  3.535145       1  \n",
       "\n",
       "[5 rows x 25 columns]"
      ],
      "text/html": [
       "<div>\n",
       "<style scoped>\n",
       "    .dataframe tbody tr th:only-of-type {\n",
       "        vertical-align: middle;\n",
       "    }\n",
       "\n",
       "    .dataframe tbody tr th {\n",
       "        vertical-align: top;\n",
       "    }\n",
       "\n",
       "    .dataframe thead th {\n",
       "        text-align: right;\n",
       "    }\n",
       "</style>\n",
       "<table border=\"1\" class=\"dataframe\">\n",
       "  <thead>\n",
       "    <tr style=\"text-align: right;\">\n",
       "      <th></th>\n",
       "      <th>gender_Male</th>\n",
       "      <th>gender_Other</th>\n",
       "      <th>ever_married_Yes</th>\n",
       "      <th>work_type_Never_worked</th>\n",
       "      <th>work_type_Private</th>\n",
       "      <th>work_type_Self-employed</th>\n",
       "      <th>work_type_children</th>\n",
       "      <th>Residence_type_Urban</th>\n",
       "      <th>smoking_status_formerly smoked</th>\n",
       "      <th>smoking_status_never smoked</th>\n",
       "      <th>...</th>\n",
       "      <th>bmi_segmentation_Obese_Class</th>\n",
       "      <th>bmi_segmentation_Overweight</th>\n",
       "      <th>glucose_segmentation_Prediabetes</th>\n",
       "      <th>glucose_segmentation_Severe_Hyperglycemia</th>\n",
       "      <th>age</th>\n",
       "      <th>hypertension</th>\n",
       "      <th>heart_disease</th>\n",
       "      <th>avg_glucose_level</th>\n",
       "      <th>bmi</th>\n",
       "      <th>stroke</th>\n",
       "    </tr>\n",
       "  </thead>\n",
       "  <tbody>\n",
       "    <tr>\n",
       "      <th>0</th>\n",
       "      <td>1.0</td>\n",
       "      <td>0.0</td>\n",
       "      <td>1.0</td>\n",
       "      <td>0.0</td>\n",
       "      <td>1.0</td>\n",
       "      <td>0.0</td>\n",
       "      <td>0.0</td>\n",
       "      <td>1.0</td>\n",
       "      <td>1.0</td>\n",
       "      <td>0.0</td>\n",
       "      <td>...</td>\n",
       "      <td>1.0</td>\n",
       "      <td>0.0</td>\n",
       "      <td>0.0</td>\n",
       "      <td>1.0</td>\n",
       "      <td>67.0</td>\n",
       "      <td>0</td>\n",
       "      <td>1</td>\n",
       "      <td>5.648305</td>\n",
       "      <td>3.848018</td>\n",
       "      <td>1</td>\n",
       "    </tr>\n",
       "    <tr>\n",
       "      <th>1</th>\n",
       "      <td>0.0</td>\n",
       "      <td>0.0</td>\n",
       "      <td>1.0</td>\n",
       "      <td>0.0</td>\n",
       "      <td>0.0</td>\n",
       "      <td>1.0</td>\n",
       "      <td>0.0</td>\n",
       "      <td>0.0</td>\n",
       "      <td>0.0</td>\n",
       "      <td>1.0</td>\n",
       "      <td>...</td>\n",
       "      <td>1.0</td>\n",
       "      <td>0.0</td>\n",
       "      <td>0.0</td>\n",
       "      <td>1.0</td>\n",
       "      <td>61.0</td>\n",
       "      <td>0</td>\n",
       "      <td>0</td>\n",
       "      <td>5.550359</td>\n",
       "      <td>3.648057</td>\n",
       "      <td>1</td>\n",
       "    </tr>\n",
       "    <tr>\n",
       "      <th>2</th>\n",
       "      <td>1.0</td>\n",
       "      <td>0.0</td>\n",
       "      <td>1.0</td>\n",
       "      <td>0.0</td>\n",
       "      <td>1.0</td>\n",
       "      <td>0.0</td>\n",
       "      <td>0.0</td>\n",
       "      <td>0.0</td>\n",
       "      <td>0.0</td>\n",
       "      <td>1.0</td>\n",
       "      <td>...</td>\n",
       "      <td>1.0</td>\n",
       "      <td>0.0</td>\n",
       "      <td>0.0</td>\n",
       "      <td>0.0</td>\n",
       "      <td>80.0</td>\n",
       "      <td>0</td>\n",
       "      <td>1</td>\n",
       "      <td>5.081653</td>\n",
       "      <td>3.756538</td>\n",
       "      <td>1</td>\n",
       "    </tr>\n",
       "    <tr>\n",
       "      <th>3</th>\n",
       "      <td>0.0</td>\n",
       "      <td>0.0</td>\n",
       "      <td>1.0</td>\n",
       "      <td>0.0</td>\n",
       "      <td>1.0</td>\n",
       "      <td>0.0</td>\n",
       "      <td>0.0</td>\n",
       "      <td>1.0</td>\n",
       "      <td>0.0</td>\n",
       "      <td>0.0</td>\n",
       "      <td>...</td>\n",
       "      <td>1.0</td>\n",
       "      <td>0.0</td>\n",
       "      <td>0.0</td>\n",
       "      <td>1.0</td>\n",
       "      <td>49.0</td>\n",
       "      <td>0</td>\n",
       "      <td>0</td>\n",
       "      <td>5.422082</td>\n",
       "      <td>3.799974</td>\n",
       "      <td>1</td>\n",
       "    </tr>\n",
       "    <tr>\n",
       "      <th>4</th>\n",
       "      <td>0.0</td>\n",
       "      <td>0.0</td>\n",
       "      <td>1.0</td>\n",
       "      <td>0.0</td>\n",
       "      <td>0.0</td>\n",
       "      <td>1.0</td>\n",
       "      <td>0.0</td>\n",
       "      <td>0.0</td>\n",
       "      <td>0.0</td>\n",
       "      <td>1.0</td>\n",
       "      <td>...</td>\n",
       "      <td>1.0</td>\n",
       "      <td>0.0</td>\n",
       "      <td>0.0</td>\n",
       "      <td>1.0</td>\n",
       "      <td>79.0</td>\n",
       "      <td>1</td>\n",
       "      <td>0</td>\n",
       "      <td>5.434769</td>\n",
       "      <td>3.535145</td>\n",
       "      <td>1</td>\n",
       "    </tr>\n",
       "  </tbody>\n",
       "</table>\n",
       "<p>5 rows × 25 columns</p>\n",
       "</div>"
      ]
     },
     "execution_count": 75,
     "metadata": {},
     "output_type": "execute_result"
    }
   ],
   "execution_count": 75
  },
  {
   "metadata": {
    "ExecuteTime": {
     "end_time": "2025-05-10T11:08:29.259101Z",
     "start_time": "2025-05-10T11:08:29.249819Z"
    }
   },
   "cell_type": "code",
   "source": "apriori_stroke_df = stroke_transformed.drop(['bmi', 'avg_glucose_level', 'age'], axis=1)",
   "id": "8999d970cb63ec74",
   "outputs": [],
   "execution_count": 76
  },
  {
   "metadata": {
    "ExecuteTime": {
     "end_time": "2025-05-10T11:08:31.185963Z",
     "start_time": "2025-05-10T11:08:29.264120Z"
    }
   },
   "cell_type": "code",
   "source": [
    "from mlxtend.frequent_patterns import apriori, association_rules\n",
    "\n",
    "frq_items = apriori(apriori_stroke_df, min_support = 0.01, use_colnames = True) "
   ],
   "id": "c4bb741df9fb3e2c",
   "outputs": [],
   "execution_count": 77
  },
  {
   "metadata": {
    "ExecuteTime": {
     "end_time": "2025-05-10T11:08:31.213968Z",
     "start_time": "2025-05-10T11:08:31.189986Z"
    }
   },
   "cell_type": "code",
   "source": "frq_items.sort_values(by='support', ascending = False).head()",
   "id": "59146376b37d10d0",
   "outputs": [
    {
     "data": {
      "text/plain": [
       "     support                                           itemsets\n",
       "13  0.903327                     (bmi_segmentation_Obese_Class)\n",
       "1   0.656164                                 (ever_married_Yes)\n",
       "48  0.645401   (bmi_segmentation_Obese_Class, ever_married_Yes)\n",
       "2   0.572407                                (work_type_Private)\n",
       "62  0.557730  (work_type_Private, bmi_segmentation_Obese_Class)"
      ],
      "text/html": [
       "<div>\n",
       "<style scoped>\n",
       "    .dataframe tbody tr th:only-of-type {\n",
       "        vertical-align: middle;\n",
       "    }\n",
       "\n",
       "    .dataframe tbody tr th {\n",
       "        vertical-align: top;\n",
       "    }\n",
       "\n",
       "    .dataframe thead th {\n",
       "        text-align: right;\n",
       "    }\n",
       "</style>\n",
       "<table border=\"1\" class=\"dataframe\">\n",
       "  <thead>\n",
       "    <tr style=\"text-align: right;\">\n",
       "      <th></th>\n",
       "      <th>support</th>\n",
       "      <th>itemsets</th>\n",
       "    </tr>\n",
       "  </thead>\n",
       "  <tbody>\n",
       "    <tr>\n",
       "      <th>13</th>\n",
       "      <td>0.903327</td>\n",
       "      <td>(bmi_segmentation_Obese_Class)</td>\n",
       "    </tr>\n",
       "    <tr>\n",
       "      <th>1</th>\n",
       "      <td>0.656164</td>\n",
       "      <td>(ever_married_Yes)</td>\n",
       "    </tr>\n",
       "    <tr>\n",
       "      <th>48</th>\n",
       "      <td>0.645401</td>\n",
       "      <td>(bmi_segmentation_Obese_Class, ever_married_Yes)</td>\n",
       "    </tr>\n",
       "    <tr>\n",
       "      <th>2</th>\n",
       "      <td>0.572407</td>\n",
       "      <td>(work_type_Private)</td>\n",
       "    </tr>\n",
       "    <tr>\n",
       "      <th>62</th>\n",
       "      <td>0.557730</td>\n",
       "      <td>(work_type_Private, bmi_segmentation_Obese_Class)</td>\n",
       "    </tr>\n",
       "  </tbody>\n",
       "</table>\n",
       "</div>"
      ]
     },
     "execution_count": 78,
     "metadata": {},
     "output_type": "execute_result"
    }
   ],
   "execution_count": 78
  },
  {
   "metadata": {
    "ExecuteTime": {
     "end_time": "2025-05-10T11:08:31.232287Z",
     "start_time": "2025-05-10T11:08:31.219003Z"
    }
   },
   "cell_type": "code",
   "source": "frq_items.shape",
   "id": "92738d1fb213d48c",
   "outputs": [
    {
     "data": {
      "text/plain": [
       "(1307, 2)"
      ]
     },
     "execution_count": 79,
     "metadata": {},
     "output_type": "execute_result"
    }
   ],
   "execution_count": 79
  },
  {
   "metadata": {
    "ExecuteTime": {
     "end_time": "2025-05-10T11:08:31.359850Z",
     "start_time": "2025-05-10T11:08:31.238342Z"
    }
   },
   "cell_type": "code",
   "source": [
    "# Collecting the inferred rules in a dataframe \n",
    "rules = association_rules(frq_items, metric =\"lift\", min_threshold = 3) \n",
    "rules = rules.sort_values(['lift'], ascending =[False]) \n",
    "rules.sort_values(by='lift', ascending = False).head()"
   ],
   "id": "db911fb508229a7c",
   "outputs": [
    {
     "data": {
      "text/plain": [
       "                                           antecedents  \\\n",
       "399  (age_segmentation_nan, bmi_segmentation_Overwe...   \n",
       "400  (work_type_children, glucose_segmentation_Pred...   \n",
       "554                  (work_type_children, gender_Male)   \n",
       "541  (Residence_type_Urban, age_segmentation_nan, b...   \n",
       "551  (age_segmentation_nan, bmi_segmentation_Overwe...   \n",
       "\n",
       "                                           consequents  antecedent support  \\\n",
       "399  (work_type_children, glucose_segmentation_Pred...            0.073581   \n",
       "400  (age_segmentation_nan, bmi_segmentation_Overwe...            0.021722   \n",
       "554  (Residence_type_Urban, age_segmentation_nan, b...            0.070646   \n",
       "541                  (work_type_children, gender_Male)            0.035225   \n",
       "551  (Residence_type_Urban, work_type_children, gen...            0.073581   \n",
       "\n",
       "     consequent support   support  confidence      lift  representativity  \\\n",
       "399            0.021722  0.013307    0.180851  8.325666               1.0   \n",
       "400            0.073581  0.013307    0.612613  8.325666               1.0   \n",
       "554            0.035225  0.019961    0.282548  8.021237               1.0   \n",
       "541            0.070646  0.019961    0.566667  8.021237               1.0   \n",
       "551            0.036791  0.019961    0.271277  7.373529               1.0   \n",
       "\n",
       "     leverage  conviction  zhangs_metric   jaccard  certainty  kulczynski  \n",
       "399  0.011709    1.194261       0.949775  0.162291   0.162662    0.396732  \n",
       "400  0.011709    2.391453       0.899427  0.162291   0.581844    0.396732  \n",
       "554  0.017472    1.344725       0.941870  0.232346   0.256353    0.424608  \n",
       "541  0.017472    2.144664       0.907290  0.232346   0.533726    0.424608  \n",
       "551  0.017254    1.321776       0.933033  0.220779   0.243442    0.406915  "
      ],
      "text/html": [
       "<div>\n",
       "<style scoped>\n",
       "    .dataframe tbody tr th:only-of-type {\n",
       "        vertical-align: middle;\n",
       "    }\n",
       "\n",
       "    .dataframe tbody tr th {\n",
       "        vertical-align: top;\n",
       "    }\n",
       "\n",
       "    .dataframe thead th {\n",
       "        text-align: right;\n",
       "    }\n",
       "</style>\n",
       "<table border=\"1\" class=\"dataframe\">\n",
       "  <thead>\n",
       "    <tr style=\"text-align: right;\">\n",
       "      <th></th>\n",
       "      <th>antecedents</th>\n",
       "      <th>consequents</th>\n",
       "      <th>antecedent support</th>\n",
       "      <th>consequent support</th>\n",
       "      <th>support</th>\n",
       "      <th>confidence</th>\n",
       "      <th>lift</th>\n",
       "      <th>representativity</th>\n",
       "      <th>leverage</th>\n",
       "      <th>conviction</th>\n",
       "      <th>zhangs_metric</th>\n",
       "      <th>jaccard</th>\n",
       "      <th>certainty</th>\n",
       "      <th>kulczynski</th>\n",
       "    </tr>\n",
       "  </thead>\n",
       "  <tbody>\n",
       "    <tr>\n",
       "      <th>399</th>\n",
       "      <td>(age_segmentation_nan, bmi_segmentation_Overwe...</td>\n",
       "      <td>(work_type_children, glucose_segmentation_Pred...</td>\n",
       "      <td>0.073581</td>\n",
       "      <td>0.021722</td>\n",
       "      <td>0.013307</td>\n",
       "      <td>0.180851</td>\n",
       "      <td>8.325666</td>\n",
       "      <td>1.0</td>\n",
       "      <td>0.011709</td>\n",
       "      <td>1.194261</td>\n",
       "      <td>0.949775</td>\n",
       "      <td>0.162291</td>\n",
       "      <td>0.162662</td>\n",
       "      <td>0.396732</td>\n",
       "    </tr>\n",
       "    <tr>\n",
       "      <th>400</th>\n",
       "      <td>(work_type_children, glucose_segmentation_Pred...</td>\n",
       "      <td>(age_segmentation_nan, bmi_segmentation_Overwe...</td>\n",
       "      <td>0.021722</td>\n",
       "      <td>0.073581</td>\n",
       "      <td>0.013307</td>\n",
       "      <td>0.612613</td>\n",
       "      <td>8.325666</td>\n",
       "      <td>1.0</td>\n",
       "      <td>0.011709</td>\n",
       "      <td>2.391453</td>\n",
       "      <td>0.899427</td>\n",
       "      <td>0.162291</td>\n",
       "      <td>0.581844</td>\n",
       "      <td>0.396732</td>\n",
       "    </tr>\n",
       "    <tr>\n",
       "      <th>554</th>\n",
       "      <td>(work_type_children, gender_Male)</td>\n",
       "      <td>(Residence_type_Urban, age_segmentation_nan, b...</td>\n",
       "      <td>0.070646</td>\n",
       "      <td>0.035225</td>\n",
       "      <td>0.019961</td>\n",
       "      <td>0.282548</td>\n",
       "      <td>8.021237</td>\n",
       "      <td>1.0</td>\n",
       "      <td>0.017472</td>\n",
       "      <td>1.344725</td>\n",
       "      <td>0.941870</td>\n",
       "      <td>0.232346</td>\n",
       "      <td>0.256353</td>\n",
       "      <td>0.424608</td>\n",
       "    </tr>\n",
       "    <tr>\n",
       "      <th>541</th>\n",
       "      <td>(Residence_type_Urban, age_segmentation_nan, b...</td>\n",
       "      <td>(work_type_children, gender_Male)</td>\n",
       "      <td>0.035225</td>\n",
       "      <td>0.070646</td>\n",
       "      <td>0.019961</td>\n",
       "      <td>0.566667</td>\n",
       "      <td>8.021237</td>\n",
       "      <td>1.0</td>\n",
       "      <td>0.017472</td>\n",
       "      <td>2.144664</td>\n",
       "      <td>0.907290</td>\n",
       "      <td>0.232346</td>\n",
       "      <td>0.533726</td>\n",
       "      <td>0.424608</td>\n",
       "    </tr>\n",
       "    <tr>\n",
       "      <th>551</th>\n",
       "      <td>(age_segmentation_nan, bmi_segmentation_Overwe...</td>\n",
       "      <td>(Residence_type_Urban, work_type_children, gen...</td>\n",
       "      <td>0.073581</td>\n",
       "      <td>0.036791</td>\n",
       "      <td>0.019961</td>\n",
       "      <td>0.271277</td>\n",
       "      <td>7.373529</td>\n",
       "      <td>1.0</td>\n",
       "      <td>0.017254</td>\n",
       "      <td>1.321776</td>\n",
       "      <td>0.933033</td>\n",
       "      <td>0.220779</td>\n",
       "      <td>0.243442</td>\n",
       "      <td>0.406915</td>\n",
       "    </tr>\n",
       "  </tbody>\n",
       "</table>\n",
       "</div>"
      ]
     },
     "execution_count": 80,
     "metadata": {},
     "output_type": "execute_result"
    }
   ],
   "execution_count": 80
  },
  {
   "metadata": {
    "ExecuteTime": {
     "end_time": "2025-05-10T11:08:31.373864Z",
     "start_time": "2025-05-10T11:08:31.363870Z"
    }
   },
   "cell_type": "code",
   "source": "rules.shape",
   "id": "3ad77d8e50ea53e2",
   "outputs": [
    {
     "data": {
      "text/plain": [
       "(804, 14)"
      ]
     },
     "execution_count": 81,
     "metadata": {},
     "output_type": "execute_result"
    }
   ],
   "execution_count": 81
  },
  {
   "metadata": {
    "ExecuteTime": {
     "end_time": "2025-05-10T11:08:31.392418Z",
     "start_time": "2025-05-10T11:08:31.382934Z"
    }
   },
   "cell_type": "code",
   "source": "has_stroke = rules[rules['consequents'] == frozenset({'stroke'})]",
   "id": "f914e74497c99ec9",
   "outputs": [],
   "execution_count": 82
  },
  {
   "metadata": {
    "ExecuteTime": {
     "end_time": "2025-05-10T11:08:31.432121Z",
     "start_time": "2025-05-10T11:08:31.397463Z"
    }
   },
   "cell_type": "code",
   "source": "has_stroke.head(3)",
   "id": "e4e7e6f3b4ddf80c",
   "outputs": [
    {
     "data": {
      "text/plain": [
       "                                           antecedents consequents  \\\n",
       "743  (age_segmentation_Elderly, ever_married_Yes, b...    (stroke)   \n",
       "448  (age_segmentation_Elderly, bmi_segmentation_Ob...    (stroke)   \n",
       "318  (age_segmentation_Elderly, ever_married_Yes, g...    (stroke)   \n",
       "\n",
       "     antecedent support  consequent support   support  confidence      lift  \\\n",
       "743            0.052055            0.048728  0.011155    0.214286  4.397590   \n",
       "448            0.055969            0.048728  0.011937    0.213287  4.377089   \n",
       "318            0.052446            0.048728  0.011155    0.212687  4.364773   \n",
       "\n",
       "     representativity  leverage  conviction  zhangs_metric   jaccard  \\\n",
       "743               1.0  0.008618    1.210710       0.815029  0.124454   \n",
       "448               1.0  0.009210    1.209172       0.817280  0.128692   \n",
       "318               1.0  0.008599    1.208251       0.813561  0.123913   \n",
       "\n",
       "     certainty  kulczynski  \n",
       "743   0.174038    0.221601  \n",
       "448   0.172988    0.229133  \n",
       "318   0.172357    0.220801  "
      ],
      "text/html": [
       "<div>\n",
       "<style scoped>\n",
       "    .dataframe tbody tr th:only-of-type {\n",
       "        vertical-align: middle;\n",
       "    }\n",
       "\n",
       "    .dataframe tbody tr th {\n",
       "        vertical-align: top;\n",
       "    }\n",
       "\n",
       "    .dataframe thead th {\n",
       "        text-align: right;\n",
       "    }\n",
       "</style>\n",
       "<table border=\"1\" class=\"dataframe\">\n",
       "  <thead>\n",
       "    <tr style=\"text-align: right;\">\n",
       "      <th></th>\n",
       "      <th>antecedents</th>\n",
       "      <th>consequents</th>\n",
       "      <th>antecedent support</th>\n",
       "      <th>consequent support</th>\n",
       "      <th>support</th>\n",
       "      <th>confidence</th>\n",
       "      <th>lift</th>\n",
       "      <th>representativity</th>\n",
       "      <th>leverage</th>\n",
       "      <th>conviction</th>\n",
       "      <th>zhangs_metric</th>\n",
       "      <th>jaccard</th>\n",
       "      <th>certainty</th>\n",
       "      <th>kulczynski</th>\n",
       "    </tr>\n",
       "  </thead>\n",
       "  <tbody>\n",
       "    <tr>\n",
       "      <th>743</th>\n",
       "      <td>(age_segmentation_Elderly, ever_married_Yes, b...</td>\n",
       "      <td>(stroke)</td>\n",
       "      <td>0.052055</td>\n",
       "      <td>0.048728</td>\n",
       "      <td>0.011155</td>\n",
       "      <td>0.214286</td>\n",
       "      <td>4.397590</td>\n",
       "      <td>1.0</td>\n",
       "      <td>0.008618</td>\n",
       "      <td>1.210710</td>\n",
       "      <td>0.815029</td>\n",
       "      <td>0.124454</td>\n",
       "      <td>0.174038</td>\n",
       "      <td>0.221601</td>\n",
       "    </tr>\n",
       "    <tr>\n",
       "      <th>448</th>\n",
       "      <td>(age_segmentation_Elderly, bmi_segmentation_Ob...</td>\n",
       "      <td>(stroke)</td>\n",
       "      <td>0.055969</td>\n",
       "      <td>0.048728</td>\n",
       "      <td>0.011937</td>\n",
       "      <td>0.213287</td>\n",
       "      <td>4.377089</td>\n",
       "      <td>1.0</td>\n",
       "      <td>0.009210</td>\n",
       "      <td>1.209172</td>\n",
       "      <td>0.817280</td>\n",
       "      <td>0.128692</td>\n",
       "      <td>0.172988</td>\n",
       "      <td>0.229133</td>\n",
       "    </tr>\n",
       "    <tr>\n",
       "      <th>318</th>\n",
       "      <td>(age_segmentation_Elderly, ever_married_Yes, g...</td>\n",
       "      <td>(stroke)</td>\n",
       "      <td>0.052446</td>\n",
       "      <td>0.048728</td>\n",
       "      <td>0.011155</td>\n",
       "      <td>0.212687</td>\n",
       "      <td>4.364773</td>\n",
       "      <td>1.0</td>\n",
       "      <td>0.008599</td>\n",
       "      <td>1.208251</td>\n",
       "      <td>0.813561</td>\n",
       "      <td>0.123913</td>\n",
       "      <td>0.172357</td>\n",
       "      <td>0.220801</td>\n",
       "    </tr>\n",
       "  </tbody>\n",
       "</table>\n",
       "</div>"
      ]
     },
     "execution_count": 83,
     "metadata": {},
     "output_type": "execute_result"
    }
   ],
   "execution_count": 83
  },
  {
   "metadata": {
    "ExecuteTime": {
     "end_time": "2025-05-10T11:08:31.448136Z",
     "start_time": "2025-05-10T11:08:31.437144Z"
    }
   },
   "cell_type": "code",
   "source": "has_stroke.shape",
   "id": "43b644007ae90c27",
   "outputs": [
    {
     "data": {
      "text/plain": [
       "(25, 14)"
      ]
     },
     "execution_count": 84,
     "metadata": {},
     "output_type": "execute_result"
    }
   ],
   "execution_count": 84
  },
  {
   "metadata": {},
   "cell_type": "markdown",
   "source": "# Per Gender",
   "id": "1b138bde08114179"
  },
  {
   "metadata": {
    "ExecuteTime": {
     "end_time": "2025-05-10T11:17:30.718530Z",
     "start_time": "2025-05-10T11:17:30.700791Z"
    }
   },
   "cell_type": "code",
   "source": [
    "male_stroke =  log_stroke[log_stroke['gender'] == 'Male']\n",
    "female_stroke =  log_stroke[log_stroke['gender'] == 'Female']"
   ],
   "id": "565ecbf2e5363cf3",
   "outputs": [],
   "execution_count": 93
  },
  {
   "metadata": {
    "ExecuteTime": {
     "end_time": "2025-05-10T11:17:31.861412Z",
     "start_time": "2025-05-10T11:17:31.848037Z"
    }
   },
   "cell_type": "code",
   "source": "female_stroke.shape, male_stroke.shape",
   "id": "622ba06a89836608",
   "outputs": [
    {
     "data": {
      "text/plain": [
       "((2994, 14), (2115, 14))"
      ]
     },
     "execution_count": 94,
     "metadata": {},
     "output_type": "execute_result"
    }
   ],
   "execution_count": 94
  },
  {
   "metadata": {
    "ExecuteTime": {
     "end_time": "2025-05-10T11:20:20.698175Z",
     "start_time": "2025-05-10T11:20:20.541944Z"
    }
   },
   "cell_type": "code",
   "source": [
    "to_one_hot_male = log_stroke.drop('gender', axis=1).select_dtypes(include='object').columns.tolist()\n",
    "\n",
    "transformer = ColumnTransformer([\n",
    "    ('onehot', OneHotEncoder(drop='first', sparse_output=False), to_one_hot_male)  \n",
    "], remainder='passthrough', verbose_feature_names_out=False).set_output(transform=\"pandas\")\n",
    "\n",
    "stroke_transformed_male = transformer.fit_transform(male_stroke)\n",
    "stroke_transformed_female = transformer.fit_transform(female_stroke)"
   ],
   "id": "41879db1f957dc43",
   "outputs": [],
   "execution_count": 99
  },
  {
   "metadata": {
    "ExecuteTime": {
     "end_time": "2025-05-10T11:23:49.882320Z",
     "start_time": "2025-05-10T11:23:49.871361Z"
    }
   },
   "cell_type": "code",
   "source": [
    "apriori_stroke_male_df = stroke_transformed_male.drop(['bmi', 'avg_glucose_level', 'age', 'gender'], axis=1)\n",
    "apriori_stroke_female_df = stroke_transformed_female.drop(['bmi', 'avg_glucose_level', 'age', 'gender'], axis=1)"
   ],
   "id": "38ef4984df35bf5d",
   "outputs": [],
   "execution_count": 108
  },
  {
   "metadata": {
    "ExecuteTime": {
     "end_time": "2025-05-10T11:25:10.528977Z",
     "start_time": "2025-05-10T11:25:10.032963Z"
    }
   },
   "cell_type": "code",
   "source": [
    "frq_items_male = apriori(apriori_stroke_male_df, min_support = 0.01, use_colnames = True) \n",
    "frq_items_male.sort_values(by='support', ascending = False).head()"
   ],
   "id": "600c36221aa12fcc",
   "outputs": [
    {
     "data": {
      "text/plain": [
       "     support                                           itemsets\n",
       "12  0.889835                     (bmi_segmentation_Obese_Class)\n",
       "0   0.639243                                 (ever_married_Yes)\n",
       "28  0.634988   (bmi_segmentation_Obese_Class, ever_married_Yes)\n",
       "1   0.553191                                (work_type_Private)\n",
       "42  0.544681  (work_type_Private, bmi_segmentation_Obese_Class)"
      ],
      "text/html": [
       "<div>\n",
       "<style scoped>\n",
       "    .dataframe tbody tr th:only-of-type {\n",
       "        vertical-align: middle;\n",
       "    }\n",
       "\n",
       "    .dataframe tbody tr th {\n",
       "        vertical-align: top;\n",
       "    }\n",
       "\n",
       "    .dataframe thead th {\n",
       "        text-align: right;\n",
       "    }\n",
       "</style>\n",
       "<table border=\"1\" class=\"dataframe\">\n",
       "  <thead>\n",
       "    <tr style=\"text-align: right;\">\n",
       "      <th></th>\n",
       "      <th>support</th>\n",
       "      <th>itemsets</th>\n",
       "    </tr>\n",
       "  </thead>\n",
       "  <tbody>\n",
       "    <tr>\n",
       "      <th>12</th>\n",
       "      <td>0.889835</td>\n",
       "      <td>(bmi_segmentation_Obese_Class)</td>\n",
       "    </tr>\n",
       "    <tr>\n",
       "      <th>0</th>\n",
       "      <td>0.639243</td>\n",
       "      <td>(ever_married_Yes)</td>\n",
       "    </tr>\n",
       "    <tr>\n",
       "      <th>28</th>\n",
       "      <td>0.634988</td>\n",
       "      <td>(bmi_segmentation_Obese_Class, ever_married_Yes)</td>\n",
       "    </tr>\n",
       "    <tr>\n",
       "      <th>1</th>\n",
       "      <td>0.553191</td>\n",
       "      <td>(work_type_Private)</td>\n",
       "    </tr>\n",
       "    <tr>\n",
       "      <th>42</th>\n",
       "      <td>0.544681</td>\n",
       "      <td>(work_type_Private, bmi_segmentation_Obese_Class)</td>\n",
       "    </tr>\n",
       "  </tbody>\n",
       "</table>\n",
       "</div>"
      ]
     },
     "execution_count": 113,
     "metadata": {},
     "output_type": "execute_result"
    }
   ],
   "execution_count": 113
  },
  {
   "metadata": {
    "ExecuteTime": {
     "end_time": "2025-05-10T11:25:23.152661Z",
     "start_time": "2025-05-10T11:25:22.380725Z"
    }
   },
   "cell_type": "code",
   "source": [
    "frq_items_female = apriori(apriori_stroke_female_df, min_support = 0.01, use_colnames = True) \n",
    "frq_items_female.sort_values(by='support', ascending = False).head()"
   ],
   "id": "41ee718b8705861d",
   "outputs": [
    {
     "data": {
      "text/plain": [
       "     support                                           itemsets\n",
       "12  0.912826                     (bmi_segmentation_Obese_Class)\n",
       "0   0.668337                                 (ever_married_Yes)\n",
       "28  0.652973   (bmi_segmentation_Obese_Class, ever_married_Yes)\n",
       "1   0.585838                                (work_type_Private)\n",
       "43  0.566800  (work_type_Private, bmi_segmentation_Obese_Class)"
      ],
      "text/html": [
       "<div>\n",
       "<style scoped>\n",
       "    .dataframe tbody tr th:only-of-type {\n",
       "        vertical-align: middle;\n",
       "    }\n",
       "\n",
       "    .dataframe tbody tr th {\n",
       "        vertical-align: top;\n",
       "    }\n",
       "\n",
       "    .dataframe thead th {\n",
       "        text-align: right;\n",
       "    }\n",
       "</style>\n",
       "<table border=\"1\" class=\"dataframe\">\n",
       "  <thead>\n",
       "    <tr style=\"text-align: right;\">\n",
       "      <th></th>\n",
       "      <th>support</th>\n",
       "      <th>itemsets</th>\n",
       "    </tr>\n",
       "  </thead>\n",
       "  <tbody>\n",
       "    <tr>\n",
       "      <th>12</th>\n",
       "      <td>0.912826</td>\n",
       "      <td>(bmi_segmentation_Obese_Class)</td>\n",
       "    </tr>\n",
       "    <tr>\n",
       "      <th>0</th>\n",
       "      <td>0.668337</td>\n",
       "      <td>(ever_married_Yes)</td>\n",
       "    </tr>\n",
       "    <tr>\n",
       "      <th>28</th>\n",
       "      <td>0.652973</td>\n",
       "      <td>(bmi_segmentation_Obese_Class, ever_married_Yes)</td>\n",
       "    </tr>\n",
       "    <tr>\n",
       "      <th>1</th>\n",
       "      <td>0.585838</td>\n",
       "      <td>(work_type_Private)</td>\n",
       "    </tr>\n",
       "    <tr>\n",
       "      <th>43</th>\n",
       "      <td>0.566800</td>\n",
       "      <td>(work_type_Private, bmi_segmentation_Obese_Class)</td>\n",
       "    </tr>\n",
       "  </tbody>\n",
       "</table>\n",
       "</div>"
      ]
     },
     "execution_count": 114,
     "metadata": {},
     "output_type": "execute_result"
    }
   ],
   "execution_count": 114
  },
  {
   "metadata": {
    "ExecuteTime": {
     "end_time": "2025-05-10T11:28:53.359135Z",
     "start_time": "2025-05-10T11:28:53.215748Z"
    }
   },
   "cell_type": "code",
   "source": [
    "# Collecting the inferred rules in a dataframe  for male\n",
    "rules_male = association_rules(frq_items_male, metric =\"lift\", min_threshold = 3) \n",
    "rules_male = rules_male.sort_values(['lift'], ascending =[False]) \n",
    "has_stroke_male = rules_male[rules_male['consequents'] == frozenset({'stroke'})]\n",
    "has_stroke_male['gender'] = 'Male'"
   ],
   "id": "6940cd1d7049e50f",
   "outputs": [],
   "execution_count": 119
  },
  {
   "metadata": {
    "ExecuteTime": {
     "end_time": "2025-05-10T11:28:54.615761Z",
     "start_time": "2025-05-10T11:28:54.586733Z"
    }
   },
   "cell_type": "code",
   "source": "has_stroke_male.head(3)",
   "id": "c886120972649ebb",
   "outputs": [
    {
     "data": {
      "text/plain": [
       "                                           antecedents consequents  \\\n",
       "378  (age_segmentation_Elderly, bmi_segmentation_Ob...    (stroke)   \n",
       "595  (age_segmentation_Elderly, ever_married_Yes, b...    (stroke)   \n",
       "100  (age_segmentation_Elderly, glucose_segmentatio...    (stroke)   \n",
       "\n",
       "     antecedent support  consequent support   support  confidence      lift  \\\n",
       "378            0.063357            0.051064  0.014657    0.231343  4.530473   \n",
       "595            0.059574            0.051064  0.013712    0.230159  4.507275   \n",
       "100            0.063830            0.051064  0.014657    0.229630  4.496914   \n",
       "\n",
       "     representativity  leverage  conviction  zhangs_metric   jaccard  \\\n",
       "378               1.0  0.011422    1.234538       0.831984  0.146919   \n",
       "595               1.0  0.010669    1.232639       0.827430  0.141463   \n",
       "100               1.0  0.011398    1.231792       0.830645  0.146226   \n",
       "\n",
       "     certainty  kulczynski gender  \n",
       "378   0.189981    0.259190   Male  \n",
       "595   0.188732    0.249339   Male  \n",
       "100   0.188175    0.258333   Male  "
      ],
      "text/html": [
       "<div>\n",
       "<style scoped>\n",
       "    .dataframe tbody tr th:only-of-type {\n",
       "        vertical-align: middle;\n",
       "    }\n",
       "\n",
       "    .dataframe tbody tr th {\n",
       "        vertical-align: top;\n",
       "    }\n",
       "\n",
       "    .dataframe thead th {\n",
       "        text-align: right;\n",
       "    }\n",
       "</style>\n",
       "<table border=\"1\" class=\"dataframe\">\n",
       "  <thead>\n",
       "    <tr style=\"text-align: right;\">\n",
       "      <th></th>\n",
       "      <th>antecedents</th>\n",
       "      <th>consequents</th>\n",
       "      <th>antecedent support</th>\n",
       "      <th>consequent support</th>\n",
       "      <th>support</th>\n",
       "      <th>confidence</th>\n",
       "      <th>lift</th>\n",
       "      <th>representativity</th>\n",
       "      <th>leverage</th>\n",
       "      <th>conviction</th>\n",
       "      <th>zhangs_metric</th>\n",
       "      <th>jaccard</th>\n",
       "      <th>certainty</th>\n",
       "      <th>kulczynski</th>\n",
       "      <th>gender</th>\n",
       "    </tr>\n",
       "  </thead>\n",
       "  <tbody>\n",
       "    <tr>\n",
       "      <th>378</th>\n",
       "      <td>(age_segmentation_Elderly, bmi_segmentation_Ob...</td>\n",
       "      <td>(stroke)</td>\n",
       "      <td>0.063357</td>\n",
       "      <td>0.051064</td>\n",
       "      <td>0.014657</td>\n",
       "      <td>0.231343</td>\n",
       "      <td>4.530473</td>\n",
       "      <td>1.0</td>\n",
       "      <td>0.011422</td>\n",
       "      <td>1.234538</td>\n",
       "      <td>0.831984</td>\n",
       "      <td>0.146919</td>\n",
       "      <td>0.189981</td>\n",
       "      <td>0.259190</td>\n",
       "      <td>Male</td>\n",
       "    </tr>\n",
       "    <tr>\n",
       "      <th>595</th>\n",
       "      <td>(age_segmentation_Elderly, ever_married_Yes, b...</td>\n",
       "      <td>(stroke)</td>\n",
       "      <td>0.059574</td>\n",
       "      <td>0.051064</td>\n",
       "      <td>0.013712</td>\n",
       "      <td>0.230159</td>\n",
       "      <td>4.507275</td>\n",
       "      <td>1.0</td>\n",
       "      <td>0.010669</td>\n",
       "      <td>1.232639</td>\n",
       "      <td>0.827430</td>\n",
       "      <td>0.141463</td>\n",
       "      <td>0.188732</td>\n",
       "      <td>0.249339</td>\n",
       "      <td>Male</td>\n",
       "    </tr>\n",
       "    <tr>\n",
       "      <th>100</th>\n",
       "      <td>(age_segmentation_Elderly, glucose_segmentatio...</td>\n",
       "      <td>(stroke)</td>\n",
       "      <td>0.063830</td>\n",
       "      <td>0.051064</td>\n",
       "      <td>0.014657</td>\n",
       "      <td>0.229630</td>\n",
       "      <td>4.496914</td>\n",
       "      <td>1.0</td>\n",
       "      <td>0.011398</td>\n",
       "      <td>1.231792</td>\n",
       "      <td>0.830645</td>\n",
       "      <td>0.146226</td>\n",
       "      <td>0.188175</td>\n",
       "      <td>0.258333</td>\n",
       "      <td>Male</td>\n",
       "    </tr>\n",
       "  </tbody>\n",
       "</table>\n",
       "</div>"
      ]
     },
     "execution_count": 120,
     "metadata": {},
     "output_type": "execute_result"
    }
   ],
   "execution_count": 120
  },
  {
   "metadata": {
    "ExecuteTime": {
     "end_time": "2025-05-10T11:29:25.984747Z",
     "start_time": "2025-05-10T11:29:25.923654Z"
    }
   },
   "cell_type": "code",
   "source": [
    "# Collecting the inferred rules in a dataframe  for male\n",
    "rules_female = association_rules(frq_items_female, metric =\"lift\", min_threshold = 3) \n",
    "rules_female = rules_female.sort_values(['lift'], ascending =[False]) \n",
    "has_stroke_female = rules_female[rules_female['consequents'] == frozenset({'stroke'})]\n",
    "has_stroke_female['gender'] = 'Female'"
   ],
   "id": "1265c8a842f94ecc",
   "outputs": [],
   "execution_count": 121
  },
  {
   "metadata": {
    "ExecuteTime": {
     "end_time": "2025-05-10T11:29:34.934548Z",
     "start_time": "2025-05-10T11:29:34.906980Z"
    }
   },
   "cell_type": "code",
   "source": "has_stroke_female.head(3)",
   "id": "b54eb7a7400da121",
   "outputs": [
    {
     "data": {
      "text/plain": [
       "                                           antecedents consequents  \\\n",
       "435  (age_segmentation_Elderly, bmi_segmentation_Ob...    (stroke)   \n",
       "123           (age_segmentation_Elderly, hypertension)    (stroke)   \n",
       "426  (age_segmentation_Elderly, bmi_segmentation_Ob...    (stroke)   \n",
       "\n",
       "     antecedent support  consequent support  support  confidence      lift  \\\n",
       "435            0.044088            0.047094  0.01002    0.227273  4.825919   \n",
       "123            0.044756            0.047094  0.01002    0.223881  4.753890   \n",
       "426            0.050768            0.047094  0.01002    0.197368  4.190929   \n",
       "\n",
       "     representativity  leverage  conviction  zhangs_metric   jaccard  \\\n",
       "435               1.0  0.007944    1.233172       0.829350  0.123457   \n",
       "123               1.0  0.007912    1.227782       0.826643  0.122449   \n",
       "426               1.0  0.007629    1.187227       0.802111  0.114068   \n",
       "\n",
       "     certainty  kulczynski  gender  \n",
       "435   0.189083    0.220019  Female  \n",
       "123   0.185523    0.218323  Female  \n",
       "426   0.157701    0.205067  Female  "
      ],
      "text/html": [
       "<div>\n",
       "<style scoped>\n",
       "    .dataframe tbody tr th:only-of-type {\n",
       "        vertical-align: middle;\n",
       "    }\n",
       "\n",
       "    .dataframe tbody tr th {\n",
       "        vertical-align: top;\n",
       "    }\n",
       "\n",
       "    .dataframe thead th {\n",
       "        text-align: right;\n",
       "    }\n",
       "</style>\n",
       "<table border=\"1\" class=\"dataframe\">\n",
       "  <thead>\n",
       "    <tr style=\"text-align: right;\">\n",
       "      <th></th>\n",
       "      <th>antecedents</th>\n",
       "      <th>consequents</th>\n",
       "      <th>antecedent support</th>\n",
       "      <th>consequent support</th>\n",
       "      <th>support</th>\n",
       "      <th>confidence</th>\n",
       "      <th>lift</th>\n",
       "      <th>representativity</th>\n",
       "      <th>leverage</th>\n",
       "      <th>conviction</th>\n",
       "      <th>zhangs_metric</th>\n",
       "      <th>jaccard</th>\n",
       "      <th>certainty</th>\n",
       "      <th>kulczynski</th>\n",
       "      <th>gender</th>\n",
       "    </tr>\n",
       "  </thead>\n",
       "  <tbody>\n",
       "    <tr>\n",
       "      <th>435</th>\n",
       "      <td>(age_segmentation_Elderly, bmi_segmentation_Ob...</td>\n",
       "      <td>(stroke)</td>\n",
       "      <td>0.044088</td>\n",
       "      <td>0.047094</td>\n",
       "      <td>0.01002</td>\n",
       "      <td>0.227273</td>\n",
       "      <td>4.825919</td>\n",
       "      <td>1.0</td>\n",
       "      <td>0.007944</td>\n",
       "      <td>1.233172</td>\n",
       "      <td>0.829350</td>\n",
       "      <td>0.123457</td>\n",
       "      <td>0.189083</td>\n",
       "      <td>0.220019</td>\n",
       "      <td>Female</td>\n",
       "    </tr>\n",
       "    <tr>\n",
       "      <th>123</th>\n",
       "      <td>(age_segmentation_Elderly, hypertension)</td>\n",
       "      <td>(stroke)</td>\n",
       "      <td>0.044756</td>\n",
       "      <td>0.047094</td>\n",
       "      <td>0.01002</td>\n",
       "      <td>0.223881</td>\n",
       "      <td>4.753890</td>\n",
       "      <td>1.0</td>\n",
       "      <td>0.007912</td>\n",
       "      <td>1.227782</td>\n",
       "      <td>0.826643</td>\n",
       "      <td>0.122449</td>\n",
       "      <td>0.185523</td>\n",
       "      <td>0.218323</td>\n",
       "      <td>Female</td>\n",
       "    </tr>\n",
       "    <tr>\n",
       "      <th>426</th>\n",
       "      <td>(age_segmentation_Elderly, bmi_segmentation_Ob...</td>\n",
       "      <td>(stroke)</td>\n",
       "      <td>0.050768</td>\n",
       "      <td>0.047094</td>\n",
       "      <td>0.01002</td>\n",
       "      <td>0.197368</td>\n",
       "      <td>4.190929</td>\n",
       "      <td>1.0</td>\n",
       "      <td>0.007629</td>\n",
       "      <td>1.187227</td>\n",
       "      <td>0.802111</td>\n",
       "      <td>0.114068</td>\n",
       "      <td>0.157701</td>\n",
       "      <td>0.205067</td>\n",
       "      <td>Female</td>\n",
       "    </tr>\n",
       "  </tbody>\n",
       "</table>\n",
       "</div>"
      ]
     },
     "execution_count": 122,
     "metadata": {},
     "output_type": "execute_result"
    }
   ],
   "execution_count": 122
  },
  {
   "metadata": {
    "ExecuteTime": {
     "end_time": "2025-05-10T11:32:17.562353Z",
     "start_time": "2025-05-10T11:32:17.500201Z"
    }
   },
   "cell_type": "code",
   "source": [
    "has_stroke_male_female = pd.concat([has_stroke_male.head(3), has_stroke_female.head(3)])\n",
    "has_stroke_male_female"
   ],
   "id": "9178d703f39317d9",
   "outputs": [
    {
     "data": {
      "text/plain": [
       "                                           antecedents consequents  \\\n",
       "378  (age_segmentation_Elderly, bmi_segmentation_Ob...    (stroke)   \n",
       "595  (age_segmentation_Elderly, ever_married_Yes, b...    (stroke)   \n",
       "100  (age_segmentation_Elderly, glucose_segmentatio...    (stroke)   \n",
       "435  (age_segmentation_Elderly, bmi_segmentation_Ob...    (stroke)   \n",
       "123           (age_segmentation_Elderly, hypertension)    (stroke)   \n",
       "426  (age_segmentation_Elderly, bmi_segmentation_Ob...    (stroke)   \n",
       "\n",
       "     antecedent support  consequent support   support  confidence      lift  \\\n",
       "378            0.063357            0.051064  0.014657    0.231343  4.530473   \n",
       "595            0.059574            0.051064  0.013712    0.230159  4.507275   \n",
       "100            0.063830            0.051064  0.014657    0.229630  4.496914   \n",
       "435            0.044088            0.047094  0.010020    0.227273  4.825919   \n",
       "123            0.044756            0.047094  0.010020    0.223881  4.753890   \n",
       "426            0.050768            0.047094  0.010020    0.197368  4.190929   \n",
       "\n",
       "     representativity  leverage  conviction  zhangs_metric   jaccard  \\\n",
       "378               1.0  0.011422    1.234538       0.831984  0.146919   \n",
       "595               1.0  0.010669    1.232639       0.827430  0.141463   \n",
       "100               1.0  0.011398    1.231792       0.830645  0.146226   \n",
       "435               1.0  0.007944    1.233172       0.829350  0.123457   \n",
       "123               1.0  0.007912    1.227782       0.826643  0.122449   \n",
       "426               1.0  0.007629    1.187227       0.802111  0.114068   \n",
       "\n",
       "     certainty  kulczynski  gender  \n",
       "378   0.189981    0.259190    Male  \n",
       "595   0.188732    0.249339    Male  \n",
       "100   0.188175    0.258333    Male  \n",
       "435   0.189083    0.220019  Female  \n",
       "123   0.185523    0.218323  Female  \n",
       "426   0.157701    0.205067  Female  "
      ],
      "text/html": [
       "<div>\n",
       "<style scoped>\n",
       "    .dataframe tbody tr th:only-of-type {\n",
       "        vertical-align: middle;\n",
       "    }\n",
       "\n",
       "    .dataframe tbody tr th {\n",
       "        vertical-align: top;\n",
       "    }\n",
       "\n",
       "    .dataframe thead th {\n",
       "        text-align: right;\n",
       "    }\n",
       "</style>\n",
       "<table border=\"1\" class=\"dataframe\">\n",
       "  <thead>\n",
       "    <tr style=\"text-align: right;\">\n",
       "      <th></th>\n",
       "      <th>antecedents</th>\n",
       "      <th>consequents</th>\n",
       "      <th>antecedent support</th>\n",
       "      <th>consequent support</th>\n",
       "      <th>support</th>\n",
       "      <th>confidence</th>\n",
       "      <th>lift</th>\n",
       "      <th>representativity</th>\n",
       "      <th>leverage</th>\n",
       "      <th>conviction</th>\n",
       "      <th>zhangs_metric</th>\n",
       "      <th>jaccard</th>\n",
       "      <th>certainty</th>\n",
       "      <th>kulczynski</th>\n",
       "      <th>gender</th>\n",
       "    </tr>\n",
       "  </thead>\n",
       "  <tbody>\n",
       "    <tr>\n",
       "      <th>378</th>\n",
       "      <td>(age_segmentation_Elderly, bmi_segmentation_Ob...</td>\n",
       "      <td>(stroke)</td>\n",
       "      <td>0.063357</td>\n",
       "      <td>0.051064</td>\n",
       "      <td>0.014657</td>\n",
       "      <td>0.231343</td>\n",
       "      <td>4.530473</td>\n",
       "      <td>1.0</td>\n",
       "      <td>0.011422</td>\n",
       "      <td>1.234538</td>\n",
       "      <td>0.831984</td>\n",
       "      <td>0.146919</td>\n",
       "      <td>0.189981</td>\n",
       "      <td>0.259190</td>\n",
       "      <td>Male</td>\n",
       "    </tr>\n",
       "    <tr>\n",
       "      <th>595</th>\n",
       "      <td>(age_segmentation_Elderly, ever_married_Yes, b...</td>\n",
       "      <td>(stroke)</td>\n",
       "      <td>0.059574</td>\n",
       "      <td>0.051064</td>\n",
       "      <td>0.013712</td>\n",
       "      <td>0.230159</td>\n",
       "      <td>4.507275</td>\n",
       "      <td>1.0</td>\n",
       "      <td>0.010669</td>\n",
       "      <td>1.232639</td>\n",
       "      <td>0.827430</td>\n",
       "      <td>0.141463</td>\n",
       "      <td>0.188732</td>\n",
       "      <td>0.249339</td>\n",
       "      <td>Male</td>\n",
       "    </tr>\n",
       "    <tr>\n",
       "      <th>100</th>\n",
       "      <td>(age_segmentation_Elderly, glucose_segmentatio...</td>\n",
       "      <td>(stroke)</td>\n",
       "      <td>0.063830</td>\n",
       "      <td>0.051064</td>\n",
       "      <td>0.014657</td>\n",
       "      <td>0.229630</td>\n",
       "      <td>4.496914</td>\n",
       "      <td>1.0</td>\n",
       "      <td>0.011398</td>\n",
       "      <td>1.231792</td>\n",
       "      <td>0.830645</td>\n",
       "      <td>0.146226</td>\n",
       "      <td>0.188175</td>\n",
       "      <td>0.258333</td>\n",
       "      <td>Male</td>\n",
       "    </tr>\n",
       "    <tr>\n",
       "      <th>435</th>\n",
       "      <td>(age_segmentation_Elderly, bmi_segmentation_Ob...</td>\n",
       "      <td>(stroke)</td>\n",
       "      <td>0.044088</td>\n",
       "      <td>0.047094</td>\n",
       "      <td>0.010020</td>\n",
       "      <td>0.227273</td>\n",
       "      <td>4.825919</td>\n",
       "      <td>1.0</td>\n",
       "      <td>0.007944</td>\n",
       "      <td>1.233172</td>\n",
       "      <td>0.829350</td>\n",
       "      <td>0.123457</td>\n",
       "      <td>0.189083</td>\n",
       "      <td>0.220019</td>\n",
       "      <td>Female</td>\n",
       "    </tr>\n",
       "    <tr>\n",
       "      <th>123</th>\n",
       "      <td>(age_segmentation_Elderly, hypertension)</td>\n",
       "      <td>(stroke)</td>\n",
       "      <td>0.044756</td>\n",
       "      <td>0.047094</td>\n",
       "      <td>0.010020</td>\n",
       "      <td>0.223881</td>\n",
       "      <td>4.753890</td>\n",
       "      <td>1.0</td>\n",
       "      <td>0.007912</td>\n",
       "      <td>1.227782</td>\n",
       "      <td>0.826643</td>\n",
       "      <td>0.122449</td>\n",
       "      <td>0.185523</td>\n",
       "      <td>0.218323</td>\n",
       "      <td>Female</td>\n",
       "    </tr>\n",
       "    <tr>\n",
       "      <th>426</th>\n",
       "      <td>(age_segmentation_Elderly, bmi_segmentation_Ob...</td>\n",
       "      <td>(stroke)</td>\n",
       "      <td>0.050768</td>\n",
       "      <td>0.047094</td>\n",
       "      <td>0.010020</td>\n",
       "      <td>0.197368</td>\n",
       "      <td>4.190929</td>\n",
       "      <td>1.0</td>\n",
       "      <td>0.007629</td>\n",
       "      <td>1.187227</td>\n",
       "      <td>0.802111</td>\n",
       "      <td>0.114068</td>\n",
       "      <td>0.157701</td>\n",
       "      <td>0.205067</td>\n",
       "      <td>Female</td>\n",
       "    </tr>\n",
       "  </tbody>\n",
       "</table>\n",
       "</div>"
      ]
     },
     "execution_count": 125,
     "metadata": {},
     "output_type": "execute_result"
    }
   ],
   "execution_count": 125
  },
  {
   "metadata": {
    "ExecuteTime": {
     "end_time": "2025-05-10T11:32:20.191512Z",
     "start_time": "2025-05-10T11:32:20.185136Z"
    }
   },
   "cell_type": "code",
   "source": "",
   "id": "26cb9af0231ebd5e",
   "outputs": [],
   "execution_count": 125
  }
 ],
 "metadata": {
  "kernelspec": {
   "display_name": "Python 3",
   "language": "python",
   "name": "python3"
  },
  "language_info": {
   "codemirror_mode": {
    "name": "ipython",
    "version": 2
   },
   "file_extension": ".py",
   "mimetype": "text/x-python",
   "name": "python",
   "nbconvert_exporter": "python",
   "pygments_lexer": "ipython2",
   "version": "2.7.6"
  }
 },
 "nbformat": 4,
 "nbformat_minor": 5
}
