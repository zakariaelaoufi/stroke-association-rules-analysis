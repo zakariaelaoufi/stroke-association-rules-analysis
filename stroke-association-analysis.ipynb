{
 "cells": [
  {
   "cell_type": "code",
   "id": "initial_id",
   "metadata": {
    "collapsed": true,
    "ExecuteTime": {
     "end_time": "2025-05-07T17:07:25.051675Z",
     "start_time": "2025-05-07T17:07:25.042526Z"
    }
   },
   "source": [
    "import pandas as pd\n",
    "import numpy as np\n",
    "import matplotlib.pyplot as plt\n",
    "import seaborn as sns\n",
    "sns.set_style(\"whitegrid\")\n",
    "\n",
    "import warnings\n",
    "warnings.filterwarnings(\"ignore\")"
   ],
   "outputs": [],
   "execution_count": 127
  },
  {
   "metadata": {
    "ExecuteTime": {
     "end_time": "2025-05-07T17:07:25.403224Z",
     "start_time": "2025-05-07T17:07:25.354256Z"
    }
   },
   "cell_type": "code",
   "source": [
    "stroke_df = pd.read_csv('./data/healthcare-dataset-stroke-data.csv')\n",
    "stroke_df.drop('id', axis=1, inplace=True)\n",
    "stroke_df.head()"
   ],
   "id": "e122255a3ffc892c",
   "outputs": [
    {
     "data": {
      "text/plain": [
       "   gender   age  hypertension  heart_disease ever_married      work_type  \\\n",
       "0    Male  67.0             0              1          Yes        Private   \n",
       "1  Female  61.0             0              0          Yes  Self-employed   \n",
       "2    Male  80.0             0              1          Yes        Private   \n",
       "3  Female  49.0             0              0          Yes        Private   \n",
       "4  Female  79.0             1              0          Yes  Self-employed   \n",
       "\n",
       "  Residence_type  avg_glucose_level   bmi   smoking_status  stroke  \n",
       "0          Urban             228.69  36.6  formerly smoked       1  \n",
       "1          Rural             202.21   NaN     never smoked       1  \n",
       "2          Rural             105.92  32.5     never smoked       1  \n",
       "3          Urban             171.23  34.4           smokes       1  \n",
       "4          Rural             174.12  24.0     never smoked       1  "
      ],
      "text/html": [
       "<div>\n",
       "<style scoped>\n",
       "    .dataframe tbody tr th:only-of-type {\n",
       "        vertical-align: middle;\n",
       "    }\n",
       "\n",
       "    .dataframe tbody tr th {\n",
       "        vertical-align: top;\n",
       "    }\n",
       "\n",
       "    .dataframe thead th {\n",
       "        text-align: right;\n",
       "    }\n",
       "</style>\n",
       "<table border=\"1\" class=\"dataframe\">\n",
       "  <thead>\n",
       "    <tr style=\"text-align: right;\">\n",
       "      <th></th>\n",
       "      <th>gender</th>\n",
       "      <th>age</th>\n",
       "      <th>hypertension</th>\n",
       "      <th>heart_disease</th>\n",
       "      <th>ever_married</th>\n",
       "      <th>work_type</th>\n",
       "      <th>Residence_type</th>\n",
       "      <th>avg_glucose_level</th>\n",
       "      <th>bmi</th>\n",
       "      <th>smoking_status</th>\n",
       "      <th>stroke</th>\n",
       "    </tr>\n",
       "  </thead>\n",
       "  <tbody>\n",
       "    <tr>\n",
       "      <th>0</th>\n",
       "      <td>Male</td>\n",
       "      <td>67.0</td>\n",
       "      <td>0</td>\n",
       "      <td>1</td>\n",
       "      <td>Yes</td>\n",
       "      <td>Private</td>\n",
       "      <td>Urban</td>\n",
       "      <td>228.69</td>\n",
       "      <td>36.6</td>\n",
       "      <td>formerly smoked</td>\n",
       "      <td>1</td>\n",
       "    </tr>\n",
       "    <tr>\n",
       "      <th>1</th>\n",
       "      <td>Female</td>\n",
       "      <td>61.0</td>\n",
       "      <td>0</td>\n",
       "      <td>0</td>\n",
       "      <td>Yes</td>\n",
       "      <td>Self-employed</td>\n",
       "      <td>Rural</td>\n",
       "      <td>202.21</td>\n",
       "      <td>NaN</td>\n",
       "      <td>never smoked</td>\n",
       "      <td>1</td>\n",
       "    </tr>\n",
       "    <tr>\n",
       "      <th>2</th>\n",
       "      <td>Male</td>\n",
       "      <td>80.0</td>\n",
       "      <td>0</td>\n",
       "      <td>1</td>\n",
       "      <td>Yes</td>\n",
       "      <td>Private</td>\n",
       "      <td>Rural</td>\n",
       "      <td>105.92</td>\n",
       "      <td>32.5</td>\n",
       "      <td>never smoked</td>\n",
       "      <td>1</td>\n",
       "    </tr>\n",
       "    <tr>\n",
       "      <th>3</th>\n",
       "      <td>Female</td>\n",
       "      <td>49.0</td>\n",
       "      <td>0</td>\n",
       "      <td>0</td>\n",
       "      <td>Yes</td>\n",
       "      <td>Private</td>\n",
       "      <td>Urban</td>\n",
       "      <td>171.23</td>\n",
       "      <td>34.4</td>\n",
       "      <td>smokes</td>\n",
       "      <td>1</td>\n",
       "    </tr>\n",
       "    <tr>\n",
       "      <th>4</th>\n",
       "      <td>Female</td>\n",
       "      <td>79.0</td>\n",
       "      <td>1</td>\n",
       "      <td>0</td>\n",
       "      <td>Yes</td>\n",
       "      <td>Self-employed</td>\n",
       "      <td>Rural</td>\n",
       "      <td>174.12</td>\n",
       "      <td>24.0</td>\n",
       "      <td>never smoked</td>\n",
       "      <td>1</td>\n",
       "    </tr>\n",
       "  </tbody>\n",
       "</table>\n",
       "</div>"
      ]
     },
     "execution_count": 128,
     "metadata": {},
     "output_type": "execute_result"
    }
   ],
   "execution_count": 128
  },
  {
   "metadata": {
    "ExecuteTime": {
     "end_time": "2025-05-07T17:07:25.477062Z",
     "start_time": "2025-05-07T17:07:25.428249Z"
    }
   },
   "cell_type": "code",
   "source": "stroke_df.describe()",
   "id": "ddfc781ce91de86b",
   "outputs": [
    {
     "data": {
      "text/plain": [
       "               age  hypertension  heart_disease  avg_glucose_level  \\\n",
       "count  5110.000000   5110.000000    5110.000000        5110.000000   \n",
       "mean     43.226614      0.097456       0.054012         106.147677   \n",
       "std      22.612647      0.296607       0.226063          45.283560   \n",
       "min       0.080000      0.000000       0.000000          55.120000   \n",
       "25%      25.000000      0.000000       0.000000          77.245000   \n",
       "50%      45.000000      0.000000       0.000000          91.885000   \n",
       "75%      61.000000      0.000000       0.000000         114.090000   \n",
       "max      82.000000      1.000000       1.000000         271.740000   \n",
       "\n",
       "               bmi       stroke  \n",
       "count  4909.000000  5110.000000  \n",
       "mean     28.893237     0.048728  \n",
       "std       7.854067     0.215320  \n",
       "min      10.300000     0.000000  \n",
       "25%      23.500000     0.000000  \n",
       "50%      28.100000     0.000000  \n",
       "75%      33.100000     0.000000  \n",
       "max      97.600000     1.000000  "
      ],
      "text/html": [
       "<div>\n",
       "<style scoped>\n",
       "    .dataframe tbody tr th:only-of-type {\n",
       "        vertical-align: middle;\n",
       "    }\n",
       "\n",
       "    .dataframe tbody tr th {\n",
       "        vertical-align: top;\n",
       "    }\n",
       "\n",
       "    .dataframe thead th {\n",
       "        text-align: right;\n",
       "    }\n",
       "</style>\n",
       "<table border=\"1\" class=\"dataframe\">\n",
       "  <thead>\n",
       "    <tr style=\"text-align: right;\">\n",
       "      <th></th>\n",
       "      <th>age</th>\n",
       "      <th>hypertension</th>\n",
       "      <th>heart_disease</th>\n",
       "      <th>avg_glucose_level</th>\n",
       "      <th>bmi</th>\n",
       "      <th>stroke</th>\n",
       "    </tr>\n",
       "  </thead>\n",
       "  <tbody>\n",
       "    <tr>\n",
       "      <th>count</th>\n",
       "      <td>5110.000000</td>\n",
       "      <td>5110.000000</td>\n",
       "      <td>5110.000000</td>\n",
       "      <td>5110.000000</td>\n",
       "      <td>4909.000000</td>\n",
       "      <td>5110.000000</td>\n",
       "    </tr>\n",
       "    <tr>\n",
       "      <th>mean</th>\n",
       "      <td>43.226614</td>\n",
       "      <td>0.097456</td>\n",
       "      <td>0.054012</td>\n",
       "      <td>106.147677</td>\n",
       "      <td>28.893237</td>\n",
       "      <td>0.048728</td>\n",
       "    </tr>\n",
       "    <tr>\n",
       "      <th>std</th>\n",
       "      <td>22.612647</td>\n",
       "      <td>0.296607</td>\n",
       "      <td>0.226063</td>\n",
       "      <td>45.283560</td>\n",
       "      <td>7.854067</td>\n",
       "      <td>0.215320</td>\n",
       "    </tr>\n",
       "    <tr>\n",
       "      <th>min</th>\n",
       "      <td>0.080000</td>\n",
       "      <td>0.000000</td>\n",
       "      <td>0.000000</td>\n",
       "      <td>55.120000</td>\n",
       "      <td>10.300000</td>\n",
       "      <td>0.000000</td>\n",
       "    </tr>\n",
       "    <tr>\n",
       "      <th>25%</th>\n",
       "      <td>25.000000</td>\n",
       "      <td>0.000000</td>\n",
       "      <td>0.000000</td>\n",
       "      <td>77.245000</td>\n",
       "      <td>23.500000</td>\n",
       "      <td>0.000000</td>\n",
       "    </tr>\n",
       "    <tr>\n",
       "      <th>50%</th>\n",
       "      <td>45.000000</td>\n",
       "      <td>0.000000</td>\n",
       "      <td>0.000000</td>\n",
       "      <td>91.885000</td>\n",
       "      <td>28.100000</td>\n",
       "      <td>0.000000</td>\n",
       "    </tr>\n",
       "    <tr>\n",
       "      <th>75%</th>\n",
       "      <td>61.000000</td>\n",
       "      <td>0.000000</td>\n",
       "      <td>0.000000</td>\n",
       "      <td>114.090000</td>\n",
       "      <td>33.100000</td>\n",
       "      <td>0.000000</td>\n",
       "    </tr>\n",
       "    <tr>\n",
       "      <th>max</th>\n",
       "      <td>82.000000</td>\n",
       "      <td>1.000000</td>\n",
       "      <td>1.000000</td>\n",
       "      <td>271.740000</td>\n",
       "      <td>97.600000</td>\n",
       "      <td>1.000000</td>\n",
       "    </tr>\n",
       "  </tbody>\n",
       "</table>\n",
       "</div>"
      ]
     },
     "execution_count": 129,
     "metadata": {},
     "output_type": "execute_result"
    }
   ],
   "execution_count": 129
  },
  {
   "metadata": {
    "ExecuteTime": {
     "end_time": "2025-05-07T17:07:28.093928Z",
     "start_time": "2025-05-07T17:07:25.522104Z"
    }
   },
   "cell_type": "code",
   "source": [
    "stroke_df.hist(figsize=(16, 12))\n",
    "# plt.xticks(rotation=15)\n",
    "plt.tight_layout()\n",
    "plt.show()"
   ],
   "id": "3c440e9cc28be6b2",
   "outputs": [
    {
     "data": {
      "text/plain": [
       "<Figure size 1600x1200 with 6 Axes>"
      ],
      "image/png": "[encoded data removed]"
     },
     "metadata": {},
     "output_type": "display_data"
    }
   ],
   "execution_count": 130
  },
  {
   "metadata": {
    "ExecuteTime": {
     "end_time": "2025-05-07T17:07:28.396047Z",
     "start_time": "2025-05-07T17:07:28.098277Z"
    }
   },
   "cell_type": "code",
   "source": [
    "stroke_counts = stroke_df['stroke'].value_counts().sort_index()\n",
    "\n",
    "plt.figure(figsize=(8, 5))\n",
    "stroke_counts.plot(kind='bar', color=['skyblue', 'salmon'])\n",
    "\n",
    "plt.title('Stroke Distribution', fontsize=16)\n",
    "plt.xlabel('Stroke (0 = No, 1 = Yes)', fontsize=12)\n",
    "plt.ylabel('Count', fontsize=12)\n",
    "plt.tight_layout()\n",
    "plt.show()"
   ],
   "id": "f5e340b15840755d",
   "outputs": [
    {
     "data": {
      "text/plain": [
       "<Figure size 800x500 with 1 Axes>"
      ],
      "image/png": "[encoded data removed]"
     },
     "metadata": {},
     "output_type": "display_data"
    }
   ],
   "execution_count": 131
  },
  {
   "metadata": {
    "ExecuteTime": {
     "end_time": "2025-05-07T17:07:28.416249Z",
     "start_time": "2025-05-07T17:07:28.399064Z"
    }
   },
   "cell_type": "code",
   "source": "stroke_df.isnull().sum()",
   "id": "2fff859b82f7a1c6",
   "outputs": [
    {
     "data": {
      "text/plain": [
       "gender                 0\n",
       "age                    0\n",
       "hypertension           0\n",
       "heart_disease          0\n",
       "ever_married           0\n",
       "work_type              0\n",
       "Residence_type         0\n",
       "avg_glucose_level      0\n",
       "bmi                  201\n",
       "smoking_status         0\n",
       "stroke                 0\n",
       "dtype: int64"
      ]
     },
     "execution_count": 132,
     "metadata": {},
     "output_type": "execute_result"
    }
   ],
   "execution_count": 132
  },
  {
   "metadata": {
    "ExecuteTime": {
     "end_time": "2025-05-07T17:07:28.429486Z",
     "start_time": "2025-05-07T17:07:28.419260Z"
    }
   },
   "cell_type": "code",
   "source": "stroke_df['bmi'] = stroke_df['bmi'].fillna(stroke_df['bmi'].mean())",
   "id": "c1d056f963dceee8",
   "outputs": [],
   "execution_count": 133
  },
  {
   "metadata": {
    "ExecuteTime": {
     "end_time": "2025-05-07T17:07:28.453530Z",
     "start_time": "2025-05-07T17:07:28.437499Z"
    }
   },
   "cell_type": "code",
   "source": "stroke_df.isnull().sum()",
   "id": "41d1d9539d2ef3db",
   "outputs": [
    {
     "data": {
      "text/plain": [
       "gender               0\n",
       "age                  0\n",
       "hypertension         0\n",
       "heart_disease        0\n",
       "ever_married         0\n",
       "work_type            0\n",
       "Residence_type       0\n",
       "avg_glucose_level    0\n",
       "bmi                  0\n",
       "smoking_status       0\n",
       "stroke               0\n",
       "dtype: int64"
      ]
     },
     "execution_count": 134,
     "metadata": {},
     "output_type": "execute_result"
    }
   ],
   "execution_count": 134
  },
  {
   "metadata": {
    "ExecuteTime": {
     "end_time": "2025-05-07T17:07:28.474065Z",
     "start_time": "2025-05-07T17:07:28.456542Z"
    }
   },
   "cell_type": "code",
   "source": "stroke_df.duplicated().sum()",
   "id": "8d20504f49153519",
   "outputs": [
    {
     "data": {
      "text/plain": [
       "0"
      ]
     },
     "execution_count": 135,
     "metadata": {},
     "output_type": "execute_result"
    }
   ],
   "execution_count": 135
  },
  {
   "metadata": {
    "ExecuteTime": {
     "end_time": "2025-05-07T17:07:28.904821Z",
     "start_time": "2025-05-07T17:07:28.477586Z"
    }
   },
   "cell_type": "code",
   "source": [
    "plt.figure(figsize=(10,16))\n",
    "stroke_df.plot(kind='box')\n",
    "plt.xticks(rotation=15)\n",
    "plt.tight_layout()\n",
    "plt.show()"
   ],
   "id": "69d92822ab4cb7e7",
   "outputs": [
    {
     "data": {
      "text/plain": [
       "<Figure size 1000x1600 with 0 Axes>"
      ]
     },
     "metadata": {},
     "output_type": "display_data"
    },
    {
     "data": {
      "text/plain": [
       "<Figure size 640x480 with 1 Axes>"
      ],
      "image/png": "[encoded data removed]"
     },
     "metadata": {},
     "output_type": "display_data"
    }
   ],
   "execution_count": 136
  },
  {
   "metadata": {
    "ExecuteTime": {
     "end_time": "2025-05-07T17:07:28.918012Z",
     "start_time": "2025-05-07T17:07:28.908833Z"
    }
   },
   "cell_type": "code",
   "source": [
    "def log_transform(df, cols):\n",
    "    data = df.copy()\n",
    "    for col in cols:\n",
    "        data[col] = np.log(df[col] + df[col].min())\n",
    "    return data"
   ],
   "id": "e6ab0d83489063a8",
   "outputs": [],
   "execution_count": 137
  },
  {
   "metadata": {
    "ExecuteTime": {
     "end_time": "2025-05-07T17:07:28.938959Z",
     "start_time": "2025-05-07T17:07:28.924025Z"
    }
   },
   "cell_type": "code",
   "source": "log_stroke = log_transform(stroke_df, ['bmi', 'avg_glucose_level'])",
   "id": "afce1223f3ffb9a5",
   "outputs": [],
   "execution_count": 138
  },
  {
   "metadata": {
    "ExecuteTime": {
     "end_time": "2025-05-07T17:07:29.321401Z",
     "start_time": "2025-05-07T17:07:28.943977Z"
    }
   },
   "cell_type": "code",
   "source": [
    "plt.figure(figsize=(10,16))\n",
    "log_stroke.plot(kind='box')\n",
    "plt.xticks(rotation=15)\n",
    "plt.tight_layout()\n",
    "plt.show()"
   ],
   "id": "578f81908c6f5f83",
   "outputs": [
    {
     "data": {
      "text/plain": [
       "<Figure size 1000x1600 with 0 Axes>"
      ]
     },
     "metadata": {},
     "output_type": "display_data"
    },
    {
     "data": {
      "text/plain": [
       "<Figure size 640x480 with 1 Axes>"
      ],
      "image/png": "[encoded data removed]"
     },
     "metadata": {},
     "output_type": "display_data"
    }
   ],
   "execution_count": 139
  },
  {
   "metadata": {
    "ExecuteTime": {
     "end_time": "2025-05-07T17:07:29.340624Z",
     "start_time": "2025-05-07T17:07:29.325419Z"
    }
   },
   "cell_type": "code",
   "source": [
    "age_bins = [17, 35, 50, 65, 100]  \n",
    "age_label = ['Young Adults', 'Adults', 'Middle-Aged', 'Elderly']  \n",
    "log_stroke['age_segmentation'] = pd.cut(log_stroke['age'], bins=age_bins, labels=age_label)\n",
    "log_stroke['age_segmentation'] = log_stroke['age_segmentation'].astype('object')"
   ],
   "id": "e9d397050dd6385d",
   "outputs": [],
   "execution_count": 140
  },
  {
   "metadata": {
    "ExecuteTime": {
     "end_time": "2025-05-07T17:07:29.366606Z",
     "start_time": "2025-05-07T17:07:29.344642Z"
    }
   },
   "cell_type": "code",
   "source": [
    "log_bmi_bins = [0, np.log(18.5), np.log(25), np.log(30), np.log(35), np.log(40), np.inf]\n",
    "bmi_labels = [\n",
    "    'Underweight',\n",
    "    'Normal',\n",
    "    'Overweight',\n",
    "    'Obese_Class_I',\n",
    "    'Obese_Class_II',\n",
    "    'Obese_Class_III'\n",
    "]\n",
    "\n",
    "log_stroke['bmi_segmentation'] = pd.cut(log_stroke['bmi'], bins=log_bmi_bins, labels=bmi_labels)\n",
    "log_stroke['bmi_segmentation'] = log_stroke['bmi_segmentation'].astype('object')"
   ],
   "id": "30cb95958c27e9b3",
   "outputs": [],
   "execution_count": 141
  },
  {
   "metadata": {
    "ExecuteTime": {
     "end_time": "2025-05-07T17:07:29.386976Z",
     "start_time": "2025-05-07T17:07:29.370619Z"
    }
   },
   "cell_type": "code",
   "source": [
    "log_glucose_bins = [0, np.log(100), np.log(125), np.log(200), np.inf]\n",
    "\n",
    "glucose_labels = [\n",
    "    'Normal',               # Normal fasting glucose\n",
    "    'Prediabetes',       # Impaired fasting glucose\n",
    "    'Diabetes',          # Diabetes range\n",
    "    'Severe_Hyperglycemia'  # Critical/emergency range\n",
    "]\n",
    "\n",
    "log_stroke['glucose_segmentation'] = pd.cut(log_stroke['avg_glucose_level'], bins=log_glucose_bins, labels=glucose_labels)\n",
    "log_stroke['glucose_segmentation'] = log_stroke['glucose_segmentation'].astype('object')"
   ],
   "id": "13d229f5012bb841",
   "outputs": [],
   "execution_count": 142
  },
  {
   "metadata": {
    "ExecuteTime": {
     "end_time": "2025-05-07T17:07:29.420993Z",
     "start_time": "2025-05-07T17:07:29.396006Z"
    }
   },
   "cell_type": "code",
   "source": "log_stroke.head()",
   "id": "ae18a93941d26557",
   "outputs": [
    {
     "data": {
      "text/plain": [
       "   gender   age  hypertension  heart_disease ever_married      work_type  \\\n",
       "0    Male  67.0             0              1          Yes        Private   \n",
       "1  Female  61.0             0              0          Yes  Self-employed   \n",
       "2    Male  80.0             0              1          Yes        Private   \n",
       "3  Female  49.0             0              0          Yes        Private   \n",
       "4  Female  79.0             1              0          Yes  Self-employed   \n",
       "\n",
       "  Residence_type  avg_glucose_level       bmi   smoking_status  stroke  \\\n",
       "0          Urban           5.648305  3.848018  formerly smoked       1   \n",
       "1          Rural           5.550359  3.668504     never smoked       1   \n",
       "2          Rural           5.081653  3.756538     never smoked       1   \n",
       "3          Urban           5.422082  3.799974           smokes       1   \n",
       "4          Rural           5.434769  3.535145     never smoked       1   \n",
       "\n",
       "  age_segmentation bmi_segmentation  glucose_segmentation  \n",
       "0          Elderly  Obese_Class_III  Severe_Hyperglycemia  \n",
       "1      Middle-Aged   Obese_Class_II  Severe_Hyperglycemia  \n",
       "2          Elderly  Obese_Class_III              Diabetes  \n",
       "3           Adults  Obese_Class_III  Severe_Hyperglycemia  \n",
       "4          Elderly    Obese_Class_I  Severe_Hyperglycemia  "
      ],
      "text/html": [
       "<div>\n",
       "<style scoped>\n",
       "    .dataframe tbody tr th:only-of-type {\n",
       "        vertical-align: middle;\n",
       "    }\n",
       "\n",
       "    .dataframe tbody tr th {\n",
       "        vertical-align: top;\n",
       "    }\n",
       "\n",
       "    .dataframe thead th {\n",
       "        text-align: right;\n",
       "    }\n",
       "</style>\n",
       "<table border=\"1\" class=\"dataframe\">\n",
       "  <thead>\n",
       "    <tr style=\"text-align: right;\">\n",
       "      <th></th>\n",
       "      <th>gender</th>\n",
       "      <th>age</th>\n",
       "      <th>hypertension</th>\n",
       "      <th>heart_disease</th>\n",
       "      <th>ever_married</th>\n",
       "      <th>work_type</th>\n",
       "      <th>Residence_type</th>\n",
       "      <th>avg_glucose_level</th>\n",
       "      <th>bmi</th>\n",
       "      <th>smoking_status</th>\n",
       "      <th>stroke</th>\n",
       "      <th>age_segmentation</th>\n",
       "      <th>bmi_segmentation</th>\n",
       "      <th>glucose_segmentation</th>\n",
       "    </tr>\n",
       "  </thead>\n",
       "  <tbody>\n",
       "    <tr>\n",
       "      <th>0</th>\n",
       "      <td>Male</td>\n",
       "      <td>67.0</td>\n",
       "      <td>0</td>\n",
       "      <td>1</td>\n",
       "      <td>Yes</td>\n",
       "      <td>Private</td>\n",
       "      <td>Urban</td>\n",
       "      <td>5.648305</td>\n",
       "      <td>3.848018</td>\n",
       "      <td>formerly smoked</td>\n",
       "      <td>1</td>\n",
       "      <td>Elderly</td>\n",
       "      <td>Obese_Class_III</td>\n",
       "      <td>Severe_Hyperglycemia</td>\n",
       "    </tr>\n",
       "    <tr>\n",
       "      <th>1</th>\n",
       "      <td>Female</td>\n",
       "      <td>61.0</td>\n",
       "      <td>0</td>\n",
       "      <td>0</td>\n",
       "      <td>Yes</td>\n",
       "      <td>Self-employed</td>\n",
       "      <td>Rural</td>\n",
       "      <td>5.550359</td>\n",
       "      <td>3.668504</td>\n",
       "      <td>never smoked</td>\n",
       "      <td>1</td>\n",
       "      <td>Middle-Aged</td>\n",
       "      <td>Obese_Class_II</td>\n",
       "      <td>Severe_Hyperglycemia</td>\n",
       "    </tr>\n",
       "    <tr>\n",
       "      <th>2</th>\n",
       "      <td>Male</td>\n",
       "      <td>80.0</td>\n",
       "      <td>0</td>\n",
       "      <td>1</td>\n",
       "      <td>Yes</td>\n",
       "      <td>Private</td>\n",
       "      <td>Rural</td>\n",
       "      <td>5.081653</td>\n",
       "      <td>3.756538</td>\n",
       "      <td>never smoked</td>\n",
       "      <td>1</td>\n",
       "      <td>Elderly</td>\n",
       "      <td>Obese_Class_III</td>\n",
       "      <td>Diabetes</td>\n",
       "    </tr>\n",
       "    <tr>\n",
       "      <th>3</th>\n",
       "      <td>Female</td>\n",
       "      <td>49.0</td>\n",
       "      <td>0</td>\n",
       "      <td>0</td>\n",
       "      <td>Yes</td>\n",
       "      <td>Private</td>\n",
       "      <td>Urban</td>\n",
       "      <td>5.422082</td>\n",
       "      <td>3.799974</td>\n",
       "      <td>smokes</td>\n",
       "      <td>1</td>\n",
       "      <td>Adults</td>\n",
       "      <td>Obese_Class_III</td>\n",
       "      <td>Severe_Hyperglycemia</td>\n",
       "    </tr>\n",
       "    <tr>\n",
       "      <th>4</th>\n",
       "      <td>Female</td>\n",
       "      <td>79.0</td>\n",
       "      <td>1</td>\n",
       "      <td>0</td>\n",
       "      <td>Yes</td>\n",
       "      <td>Self-employed</td>\n",
       "      <td>Rural</td>\n",
       "      <td>5.434769</td>\n",
       "      <td>3.535145</td>\n",
       "      <td>never smoked</td>\n",
       "      <td>1</td>\n",
       "      <td>Elderly</td>\n",
       "      <td>Obese_Class_I</td>\n",
       "      <td>Severe_Hyperglycemia</td>\n",
       "    </tr>\n",
       "  </tbody>\n",
       "</table>\n",
       "</div>"
      ]
     },
     "execution_count": 143,
     "metadata": {},
     "output_type": "execute_result"
    }
   ],
   "execution_count": 143
  },
  {
   "metadata": {},
   "cell_type": "markdown",
   "source": "## Data Encoding",
   "id": "e5d494887600614d"
  },
  {
   "metadata": {
    "ExecuteTime": {
     "end_time": "2025-05-07T17:07:29.482021Z",
     "start_time": "2025-05-07T17:07:29.424111Z"
    }
   },
   "cell_type": "code",
   "source": [
    "from sklearn.compose import ColumnTransformer\n",
    "from sklearn.preprocessing import OneHotEncoder\n",
    "\n",
    "to_one_hot = log_stroke.select_dtypes(include='object').columns.tolist()\n",
    "\n",
    "transformer = ColumnTransformer([\n",
    "    ('onehot', OneHotEncoder(drop='first', sparse_output=False), to_one_hot)  \n",
    "], remainder='passthrough', verbose_feature_names_out=False).set_output(transform=\"pandas\")\n",
    "\n",
    "stroke_transformed = transformer.fit_transform(log_stroke)"
   ],
   "id": "10efddf97e70607e",
   "outputs": [],
   "execution_count": 144
  },
  {
   "metadata": {
    "ExecuteTime": {
     "end_time": "2025-05-07T17:15:35.822850Z",
     "start_time": "2025-05-07T17:15:35.778676Z"
    }
   },
   "cell_type": "code",
   "source": "stroke_transformed.head()",
   "id": "de975576292296a3",
   "outputs": [
    {
     "data": {
      "text/plain": [
       "   gender_Male  gender_Other  ever_married_Yes  work_type_Never_worked  \\\n",
       "0          1.0           0.0               1.0                     0.0   \n",
       "1          0.0           0.0               1.0                     0.0   \n",
       "2          1.0           0.0               1.0                     0.0   \n",
       "3          0.0           0.0               1.0                     0.0   \n",
       "4          0.0           0.0               1.0                     0.0   \n",
       "\n",
       "   work_type_Private  work_type_Self-employed  work_type_children  \\\n",
       "0                1.0                      0.0                 0.0   \n",
       "1                0.0                      1.0                 0.0   \n",
       "2                1.0                      0.0                 0.0   \n",
       "3                1.0                      0.0                 0.0   \n",
       "4                0.0                      1.0                 0.0   \n",
       "\n",
       "   Residence_type_Urban  smoking_status_formerly smoked  \\\n",
       "0                   1.0                             1.0   \n",
       "1                   0.0                             0.0   \n",
       "2                   0.0                             0.0   \n",
       "3                   1.0                             0.0   \n",
       "4                   0.0                             0.0   \n",
       "\n",
       "   smoking_status_never smoked  ...  bmi_segmentation_Obese_Class_III  \\\n",
       "0                          0.0  ...                               1.0   \n",
       "1                          1.0  ...                               0.0   \n",
       "2                          1.0  ...                               1.0   \n",
       "3                          0.0  ...                               1.0   \n",
       "4                          1.0  ...                               0.0   \n",
       "\n",
       "   bmi_segmentation_Overweight  glucose_segmentation_Prediabetes  \\\n",
       "0                          0.0                               0.0   \n",
       "1                          0.0                               0.0   \n",
       "2                          0.0                               0.0   \n",
       "3                          0.0                               0.0   \n",
       "4                          0.0                               0.0   \n",
       "\n",
       "   glucose_segmentation_Severe_Hyperglycemia   age  hypertension  \\\n",
       "0                                        1.0  67.0             0   \n",
       "1                                        1.0  61.0             0   \n",
       "2                                        0.0  80.0             0   \n",
       "3                                        1.0  49.0             0   \n",
       "4                                        1.0  79.0             1   \n",
       "\n",
       "   heart_disease  avg_glucose_level       bmi  stroke  \n",
       "0              1           5.648305  3.848018       1  \n",
       "1              0           5.550359  3.668504       1  \n",
       "2              1           5.081653  3.756538       1  \n",
       "3              0           5.422082  3.799974       1  \n",
       "4              0           5.434769  3.535145       1  \n",
       "\n",
       "[5 rows x 27 columns]"
      ],
      "text/html": [
       "<div>\n",
       "<style scoped>\n",
       "    .dataframe tbody tr th:only-of-type {\n",
       "        vertical-align: middle;\n",
       "    }\n",
       "\n",
       "    .dataframe tbody tr th {\n",
       "        vertical-align: top;\n",
       "    }\n",
       "\n",
       "    .dataframe thead th {\n",
       "        text-align: right;\n",
       "    }\n",
       "</style>\n",
       "<table border=\"1\" class=\"dataframe\">\n",
       "  <thead>\n",
       "    <tr style=\"text-align: right;\">\n",
       "      <th></th>\n",
       "      <th>gender_Male</th>\n",
       "      <th>gender_Other</th>\n",
       "      <th>ever_married_Yes</th>\n",
       "      <th>work_type_Never_worked</th>\n",
       "      <th>work_type_Private</th>\n",
       "      <th>work_type_Self-employed</th>\n",
       "      <th>work_type_children</th>\n",
       "      <th>Residence_type_Urban</th>\n",
       "      <th>smoking_status_formerly smoked</th>\n",
       "      <th>smoking_status_never smoked</th>\n",
       "      <th>...</th>\n",
       "      <th>bmi_segmentation_Obese_Class_III</th>\n",
       "      <th>bmi_segmentation_Overweight</th>\n",
       "      <th>glucose_segmentation_Prediabetes</th>\n",
       "      <th>glucose_segmentation_Severe_Hyperglycemia</th>\n",
       "      <th>age</th>\n",
       "      <th>hypertension</th>\n",
       "      <th>heart_disease</th>\n",
       "      <th>avg_glucose_level</th>\n",
       "      <th>bmi</th>\n",
       "      <th>stroke</th>\n",
       "    </tr>\n",
       "  </thead>\n",
       "  <tbody>\n",
       "    <tr>\n",
       "      <th>0</th>\n",
       "      <td>1.0</td>\n",
       "      <td>0.0</td>\n",
       "      <td>1.0</td>\n",
       "      <td>0.0</td>\n",
       "      <td>1.0</td>\n",
       "      <td>0.0</td>\n",
       "      <td>0.0</td>\n",
       "      <td>1.0</td>\n",
       "      <td>1.0</td>\n",
       "      <td>0.0</td>\n",
       "      <td>...</td>\n",
       "      <td>1.0</td>\n",
       "      <td>0.0</td>\n",
       "      <td>0.0</td>\n",
       "      <td>1.0</td>\n",
       "      <td>67.0</td>\n",
       "      <td>0</td>\n",
       "      <td>1</td>\n",
       "      <td>5.648305</td>\n",
       "      <td>3.848018</td>\n",
       "      <td>1</td>\n",
       "    </tr>\n",
       "    <tr>\n",
       "      <th>1</th>\n",
       "      <td>0.0</td>\n",
       "      <td>0.0</td>\n",
       "      <td>1.0</td>\n",
       "      <td>0.0</td>\n",
       "      <td>0.0</td>\n",
       "      <td>1.0</td>\n",
       "      <td>0.0</td>\n",
       "      <td>0.0</td>\n",
       "      <td>0.0</td>\n",
       "      <td>1.0</td>\n",
       "      <td>...</td>\n",
       "      <td>0.0</td>\n",
       "      <td>0.0</td>\n",
       "      <td>0.0</td>\n",
       "      <td>1.0</td>\n",
       "      <td>61.0</td>\n",
       "      <td>0</td>\n",
       "      <td>0</td>\n",
       "      <td>5.550359</td>\n",
       "      <td>3.668504</td>\n",
       "      <td>1</td>\n",
       "    </tr>\n",
       "    <tr>\n",
       "      <th>2</th>\n",
       "      <td>1.0</td>\n",
       "      <td>0.0</td>\n",
       "      <td>1.0</td>\n",
       "      <td>0.0</td>\n",
       "      <td>1.0</td>\n",
       "      <td>0.0</td>\n",
       "      <td>0.0</td>\n",
       "      <td>0.0</td>\n",
       "      <td>0.0</td>\n",
       "      <td>1.0</td>\n",
       "      <td>...</td>\n",
       "      <td>1.0</td>\n",
       "      <td>0.0</td>\n",
       "      <td>0.0</td>\n",
       "      <td>0.0</td>\n",
       "      <td>80.0</td>\n",
       "      <td>0</td>\n",
       "      <td>1</td>\n",
       "      <td>5.081653</td>\n",
       "      <td>3.756538</td>\n",
       "      <td>1</td>\n",
       "    </tr>\n",
       "    <tr>\n",
       "      <th>3</th>\n",
       "      <td>0.0</td>\n",
       "      <td>0.0</td>\n",
       "      <td>1.0</td>\n",
       "      <td>0.0</td>\n",
       "      <td>1.0</td>\n",
       "      <td>0.0</td>\n",
       "      <td>0.0</td>\n",
       "      <td>1.0</td>\n",
       "      <td>0.0</td>\n",
       "      <td>0.0</td>\n",
       "      <td>...</td>\n",
       "      <td>1.0</td>\n",
       "      <td>0.0</td>\n",
       "      <td>0.0</td>\n",
       "      <td>1.0</td>\n",
       "      <td>49.0</td>\n",
       "      <td>0</td>\n",
       "      <td>0</td>\n",
       "      <td>5.422082</td>\n",
       "      <td>3.799974</td>\n",
       "      <td>1</td>\n",
       "    </tr>\n",
       "    <tr>\n",
       "      <th>4</th>\n",
       "      <td>0.0</td>\n",
       "      <td>0.0</td>\n",
       "      <td>1.0</td>\n",
       "      <td>0.0</td>\n",
       "      <td>0.0</td>\n",
       "      <td>1.0</td>\n",
       "      <td>0.0</td>\n",
       "      <td>0.0</td>\n",
       "      <td>0.0</td>\n",
       "      <td>1.0</td>\n",
       "      <td>...</td>\n",
       "      <td>0.0</td>\n",
       "      <td>0.0</td>\n",
       "      <td>0.0</td>\n",
       "      <td>1.0</td>\n",
       "      <td>79.0</td>\n",
       "      <td>1</td>\n",
       "      <td>0</td>\n",
       "      <td>5.434769</td>\n",
       "      <td>3.535145</td>\n",
       "      <td>1</td>\n",
       "    </tr>\n",
       "  </tbody>\n",
       "</table>\n",
       "<p>5 rows × 27 columns</p>\n",
       "</div>"
      ]
     },
     "execution_count": 168,
     "metadata": {},
     "output_type": "execute_result"
    }
   ],
   "execution_count": 168
  },
  {
   "metadata": {
    "ExecuteTime": {
     "end_time": "2025-05-07T17:21:27.237205Z",
     "start_time": "2025-05-07T17:21:27.227341Z"
    }
   },
   "cell_type": "code",
   "source": "apriori_stroke_df = stroke_transformed.drop(['bmi', 'avg_glucose_level', 'age'], axis=1)",
   "id": "8999d970cb63ec74",
   "outputs": [],
   "execution_count": 207
  },
  {
   "metadata": {
    "ExecuteTime": {
     "end_time": "2025-05-07T17:40:07.267561Z",
     "start_time": "2025-05-07T17:40:05.107314Z"
    }
   },
   "cell_type": "code",
   "source": [
    "from mlxtend.frequent_patterns import apriori, association_rules\n",
    "\n",
    "frq_items = apriori(apriori_stroke_df, min_support = 0.01, use_colnames = True) "
   ],
   "id": "c4bb741df9fb3e2c",
   "outputs": [],
   "execution_count": 259
  },
  {
   "metadata": {
    "ExecuteTime": {
     "end_time": "2025-05-07T17:40:07.297825Z",
     "start_time": "2025-05-07T17:40:07.271812Z"
    }
   },
   "cell_type": "code",
   "source": "frq_items.sort_values(by='support', ascending = False).head()",
   "id": "59146376b37d10d0",
   "outputs": [
    {
     "data": {
      "text/plain": [
       "     support                               itemsets\n",
       "1   0.656164                     (ever_married_Yes)\n",
       "2   0.572407                    (work_type_Private)\n",
       "5   0.508023                 (Residence_type_Urban)\n",
       "0   0.413894                          (gender_Male)\n",
       "43  0.411742  (work_type_Private, ever_married_Yes)"
      ],
      "text/html": [
       "<div>\n",
       "<style scoped>\n",
       "    .dataframe tbody tr th:only-of-type {\n",
       "        vertical-align: middle;\n",
       "    }\n",
       "\n",
       "    .dataframe tbody tr th {\n",
       "        vertical-align: top;\n",
       "    }\n",
       "\n",
       "    .dataframe thead th {\n",
       "        text-align: right;\n",
       "    }\n",
       "</style>\n",
       "<table border=\"1\" class=\"dataframe\">\n",
       "  <thead>\n",
       "    <tr style=\"text-align: right;\">\n",
       "      <th></th>\n",
       "      <th>support</th>\n",
       "      <th>itemsets</th>\n",
       "    </tr>\n",
       "  </thead>\n",
       "  <tbody>\n",
       "    <tr>\n",
       "      <th>1</th>\n",
       "      <td>0.656164</td>\n",
       "      <td>(ever_married_Yes)</td>\n",
       "    </tr>\n",
       "    <tr>\n",
       "      <th>2</th>\n",
       "      <td>0.572407</td>\n",
       "      <td>(work_type_Private)</td>\n",
       "    </tr>\n",
       "    <tr>\n",
       "      <th>5</th>\n",
       "      <td>0.508023</td>\n",
       "      <td>(Residence_type_Urban)</td>\n",
       "    </tr>\n",
       "    <tr>\n",
       "      <th>0</th>\n",
       "      <td>0.413894</td>\n",
       "      <td>(gender_Male)</td>\n",
       "    </tr>\n",
       "    <tr>\n",
       "      <th>43</th>\n",
       "      <td>0.411742</td>\n",
       "      <td>(work_type_Private, ever_married_Yes)</td>\n",
       "    </tr>\n",
       "  </tbody>\n",
       "</table>\n",
       "</div>"
      ]
     },
     "execution_count": 260,
     "metadata": {},
     "output_type": "execute_result"
    }
   ],
   "execution_count": 260
  },
  {
   "metadata": {
    "ExecuteTime": {
     "end_time": "2025-05-07T17:40:07.313877Z",
     "start_time": "2025-05-07T17:40:07.302839Z"
    }
   },
   "cell_type": "code",
   "source": "frq_items.shape",
   "id": "92738d1fb213d48c",
   "outputs": [
    {
     "data": {
      "text/plain": [
       "(1340, 2)"
      ]
     },
     "execution_count": 261,
     "metadata": {},
     "output_type": "execute_result"
    }
   ],
   "execution_count": 261
  },
  {
   "metadata": {
    "ExecuteTime": {
     "end_time": "2025-05-07T17:40:09.420164Z",
     "start_time": "2025-05-07T17:40:09.323623Z"
    }
   },
   "cell_type": "code",
   "source": [
    "# Collecting the inferred rules in a dataframe \n",
    "rules = association_rules(frq_items, metric =\"lift\", min_threshold = 3) \n",
    "rules = rules.sort_values(['lift'], ascending =[False]) \n",
    "rules.sort_values(by='lift', ascending = False).head()"
   ],
   "id": "db911fb508229a7c",
   "outputs": [
    {
     "data": {
      "text/plain": [
       "                                           antecedents  \\\n",
       "358  (bmi_segmentation_Overweight, age_segmentation...   \n",
       "361  (work_type_children, glucose_segmentation_Pred...   \n",
       "428                  (work_type_children, gender_Male)   \n",
       "411  (bmi_segmentation_Overweight, Residence_type_U...   \n",
       "421  (bmi_segmentation_Overweight, age_segmentation...   \n",
       "\n",
       "                                           consequents  antecedent support  \\\n",
       "358  (work_type_children, glucose_segmentation_Pred...            0.073581   \n",
       "361  (bmi_segmentation_Overweight, age_segmentation...            0.021722   \n",
       "428  (bmi_segmentation_Overweight, Residence_type_U...            0.070646   \n",
       "411                  (work_type_children, gender_Male)            0.035225   \n",
       "421  (Residence_type_Urban, gender_Male, work_type_...            0.073581   \n",
       "\n",
       "     consequent support   support  confidence      lift  representativity  \\\n",
       "358            0.021722  0.013307    0.180851  8.325666               1.0   \n",
       "361            0.073581  0.013307    0.612613  8.325666               1.0   \n",
       "428            0.035225  0.019961    0.282548  8.021237               1.0   \n",
       "411            0.070646  0.019961    0.566667  8.021237               1.0   \n",
       "421            0.036791  0.019961    0.271277  7.373529               1.0   \n",
       "\n",
       "     leverage  conviction  zhangs_metric   jaccard  certainty  kulczynski  \n",
       "358  0.011709    1.194261       0.949775  0.162291   0.162662    0.396732  \n",
       "361  0.011709    2.391453       0.899427  0.162291   0.581844    0.396732  \n",
       "428  0.017472    1.344725       0.941870  0.232346   0.256353    0.424608  \n",
       "411  0.017472    2.144664       0.907290  0.232346   0.533726    0.424608  \n",
       "421  0.017254    1.321776       0.933033  0.220779   0.243442    0.406915  "
      ],
      "text/html": [
       "<div>\n",
       "<style scoped>\n",
       "    .dataframe tbody tr th:only-of-type {\n",
       "        vertical-align: middle;\n",
       "    }\n",
       "\n",
       "    .dataframe tbody tr th {\n",
       "        vertical-align: top;\n",
       "    }\n",
       "\n",
       "    .dataframe thead th {\n",
       "        text-align: right;\n",
       "    }\n",
       "</style>\n",
       "<table border=\"1\" class=\"dataframe\">\n",
       "  <thead>\n",
       "    <tr style=\"text-align: right;\">\n",
       "      <th></th>\n",
       "      <th>antecedents</th>\n",
       "      <th>consequents</th>\n",
       "      <th>antecedent support</th>\n",
       "      <th>consequent support</th>\n",
       "      <th>support</th>\n",
       "      <th>confidence</th>\n",
       "      <th>lift</th>\n",
       "      <th>representativity</th>\n",
       "      <th>leverage</th>\n",
       "      <th>conviction</th>\n",
       "      <th>zhangs_metric</th>\n",
       "      <th>jaccard</th>\n",
       "      <th>certainty</th>\n",
       "      <th>kulczynski</th>\n",
       "    </tr>\n",
       "  </thead>\n",
       "  <tbody>\n",
       "    <tr>\n",
       "      <th>358</th>\n",
       "      <td>(bmi_segmentation_Overweight, age_segmentation...</td>\n",
       "      <td>(work_type_children, glucose_segmentation_Pred...</td>\n",
       "      <td>0.073581</td>\n",
       "      <td>0.021722</td>\n",
       "      <td>0.013307</td>\n",
       "      <td>0.180851</td>\n",
       "      <td>8.325666</td>\n",
       "      <td>1.0</td>\n",
       "      <td>0.011709</td>\n",
       "      <td>1.194261</td>\n",
       "      <td>0.949775</td>\n",
       "      <td>0.162291</td>\n",
       "      <td>0.162662</td>\n",
       "      <td>0.396732</td>\n",
       "    </tr>\n",
       "    <tr>\n",
       "      <th>361</th>\n",
       "      <td>(work_type_children, glucose_segmentation_Pred...</td>\n",
       "      <td>(bmi_segmentation_Overweight, age_segmentation...</td>\n",
       "      <td>0.021722</td>\n",
       "      <td>0.073581</td>\n",
       "      <td>0.013307</td>\n",
       "      <td>0.612613</td>\n",
       "      <td>8.325666</td>\n",
       "      <td>1.0</td>\n",
       "      <td>0.011709</td>\n",
       "      <td>2.391453</td>\n",
       "      <td>0.899427</td>\n",
       "      <td>0.162291</td>\n",
       "      <td>0.581844</td>\n",
       "      <td>0.396732</td>\n",
       "    </tr>\n",
       "    <tr>\n",
       "      <th>428</th>\n",
       "      <td>(work_type_children, gender_Male)</td>\n",
       "      <td>(bmi_segmentation_Overweight, Residence_type_U...</td>\n",
       "      <td>0.070646</td>\n",
       "      <td>0.035225</td>\n",
       "      <td>0.019961</td>\n",
       "      <td>0.282548</td>\n",
       "      <td>8.021237</td>\n",
       "      <td>1.0</td>\n",
       "      <td>0.017472</td>\n",
       "      <td>1.344725</td>\n",
       "      <td>0.941870</td>\n",
       "      <td>0.232346</td>\n",
       "      <td>0.256353</td>\n",
       "      <td>0.424608</td>\n",
       "    </tr>\n",
       "    <tr>\n",
       "      <th>411</th>\n",
       "      <td>(bmi_segmentation_Overweight, Residence_type_U...</td>\n",
       "      <td>(work_type_children, gender_Male)</td>\n",
       "      <td>0.035225</td>\n",
       "      <td>0.070646</td>\n",
       "      <td>0.019961</td>\n",
       "      <td>0.566667</td>\n",
       "      <td>8.021237</td>\n",
       "      <td>1.0</td>\n",
       "      <td>0.017472</td>\n",
       "      <td>2.144664</td>\n",
       "      <td>0.907290</td>\n",
       "      <td>0.232346</td>\n",
       "      <td>0.533726</td>\n",
       "      <td>0.424608</td>\n",
       "    </tr>\n",
       "    <tr>\n",
       "      <th>421</th>\n",
       "      <td>(bmi_segmentation_Overweight, age_segmentation...</td>\n",
       "      <td>(Residence_type_Urban, gender_Male, work_type_...</td>\n",
       "      <td>0.073581</td>\n",
       "      <td>0.036791</td>\n",
       "      <td>0.019961</td>\n",
       "      <td>0.271277</td>\n",
       "      <td>7.373529</td>\n",
       "      <td>1.0</td>\n",
       "      <td>0.017254</td>\n",
       "      <td>1.321776</td>\n",
       "      <td>0.933033</td>\n",
       "      <td>0.220779</td>\n",
       "      <td>0.243442</td>\n",
       "      <td>0.406915</td>\n",
       "    </tr>\n",
       "  </tbody>\n",
       "</table>\n",
       "</div>"
      ]
     },
     "execution_count": 262,
     "metadata": {},
     "output_type": "execute_result"
    }
   ],
   "execution_count": 262
  },
  {
   "metadata": {
    "ExecuteTime": {
     "end_time": "2025-05-07T17:40:11.654458Z",
     "start_time": "2025-05-07T17:40:11.642199Z"
    }
   },
   "cell_type": "code",
   "source": "rules.shape",
   "id": "3ad77d8e50ea53e2",
   "outputs": [
    {
     "data": {
      "text/plain": [
       "(466, 14)"
      ]
     },
     "execution_count": 263,
     "metadata": {},
     "output_type": "execute_result"
    }
   ],
   "execution_count": 263
  },
  {
   "metadata": {
    "ExecuteTime": {
     "end_time": "2025-05-07T17:40:13.089787Z",
     "start_time": "2025-05-07T17:40:13.077322Z"
    }
   },
   "cell_type": "code",
   "source": "has_stroke = rules[rules['consequents'] == frozenset({'stroke'})]",
   "id": "f914e74497c99ec9",
   "outputs": [],
   "execution_count": 264
  },
  {
   "metadata": {
    "ExecuteTime": {
     "end_time": "2025-05-07T17:41:42.788455Z",
     "start_time": "2025-05-07T17:41:42.717626Z"
    }
   },
   "cell_type": "code",
   "source": "has_stroke.head(3)",
   "id": "e4e7e6f3b4ddf80c",
   "outputs": [
    {
     "data": {
      "text/plain": [
       "                                           antecedents consequents  \\\n",
       "317  (glucose_segmentation_Severe_Hyperglycemia, ag...    (stroke)   \n",
       "125  (glucose_segmentation_Severe_Hyperglycemia, ag...    (stroke)   \n",
       "44       (work_type_Private, age_segmentation_Elderly)    (stroke)   \n",
       "\n",
       "     antecedent support  consequent support   support  confidence      lift  \\\n",
       "317            0.052446            0.048728  0.011155    0.212687  4.364773   \n",
       "125            0.056360            0.048728  0.011937    0.211806  4.346692   \n",
       "44             0.093542            0.048728  0.017221    0.184100  3.778125   \n",
       "\n",
       "     representativity  leverage  conviction  zhangs_metric   jaccard  \\\n",
       "317               1.0  0.008599    1.208251       0.813561  0.123913   \n",
       "125               1.0  0.009191    1.206900       0.815926  0.128151   \n",
       "44                1.0  0.012663    1.165918       0.811200  0.137715   \n",
       "\n",
       "     certainty  kulczynski  \n",
       "317   0.172357    0.220801  \n",
       "125   0.171431    0.228393  \n",
       "44    0.142307    0.268757  "
      ],
      "text/html": [
       "<div>\n",
       "<style scoped>\n",
       "    .dataframe tbody tr th:only-of-type {\n",
       "        vertical-align: middle;\n",
       "    }\n",
       "\n",
       "    .dataframe tbody tr th {\n",
       "        vertical-align: top;\n",
       "    }\n",
       "\n",
       "    .dataframe thead th {\n",
       "        text-align: right;\n",
       "    }\n",
       "</style>\n",
       "<table border=\"1\" class=\"dataframe\">\n",
       "  <thead>\n",
       "    <tr style=\"text-align: right;\">\n",
       "      <th></th>\n",
       "      <th>antecedents</th>\n",
       "      <th>consequents</th>\n",
       "      <th>antecedent support</th>\n",
       "      <th>consequent support</th>\n",
       "      <th>support</th>\n",
       "      <th>confidence</th>\n",
       "      <th>lift</th>\n",
       "      <th>representativity</th>\n",
       "      <th>leverage</th>\n",
       "      <th>conviction</th>\n",
       "      <th>zhangs_metric</th>\n",
       "      <th>jaccard</th>\n",
       "      <th>certainty</th>\n",
       "      <th>kulczynski</th>\n",
       "    </tr>\n",
       "  </thead>\n",
       "  <tbody>\n",
       "    <tr>\n",
       "      <th>317</th>\n",
       "      <td>(glucose_segmentation_Severe_Hyperglycemia, ag...</td>\n",
       "      <td>(stroke)</td>\n",
       "      <td>0.052446</td>\n",
       "      <td>0.048728</td>\n",
       "      <td>0.011155</td>\n",
       "      <td>0.212687</td>\n",
       "      <td>4.364773</td>\n",
       "      <td>1.0</td>\n",
       "      <td>0.008599</td>\n",
       "      <td>1.208251</td>\n",
       "      <td>0.813561</td>\n",
       "      <td>0.123913</td>\n",
       "      <td>0.172357</td>\n",
       "      <td>0.220801</td>\n",
       "    </tr>\n",
       "    <tr>\n",
       "      <th>125</th>\n",
       "      <td>(glucose_segmentation_Severe_Hyperglycemia, ag...</td>\n",
       "      <td>(stroke)</td>\n",
       "      <td>0.056360</td>\n",
       "      <td>0.048728</td>\n",
       "      <td>0.011937</td>\n",
       "      <td>0.211806</td>\n",
       "      <td>4.346692</td>\n",
       "      <td>1.0</td>\n",
       "      <td>0.009191</td>\n",
       "      <td>1.206900</td>\n",
       "      <td>0.815926</td>\n",
       "      <td>0.128151</td>\n",
       "      <td>0.171431</td>\n",
       "      <td>0.228393</td>\n",
       "    </tr>\n",
       "    <tr>\n",
       "      <th>44</th>\n",
       "      <td>(work_type_Private, age_segmentation_Elderly)</td>\n",
       "      <td>(stroke)</td>\n",
       "      <td>0.093542</td>\n",
       "      <td>0.048728</td>\n",
       "      <td>0.017221</td>\n",
       "      <td>0.184100</td>\n",
       "      <td>3.778125</td>\n",
       "      <td>1.0</td>\n",
       "      <td>0.012663</td>\n",
       "      <td>1.165918</td>\n",
       "      <td>0.811200</td>\n",
       "      <td>0.137715</td>\n",
       "      <td>0.142307</td>\n",
       "      <td>0.268757</td>\n",
       "    </tr>\n",
       "  </tbody>\n",
       "</table>\n",
       "</div>"
      ]
     },
     "execution_count": 268,
     "metadata": {},
     "output_type": "execute_result"
    }
   ],
   "execution_count": 268
  },
  {
   "metadata": {
    "ExecuteTime": {
     "end_time": "2025-05-07T17:41:55.489911Z",
     "start_time": "2025-05-07T17:41:55.477909Z"
    }
   },
   "cell_type": "code",
   "source": "has_stroke.shape",
   "id": "43b644007ae90c27",
   "outputs": [
    {
     "data": {
      "text/plain": [
       "(14, 14)"
      ]
     },
     "execution_count": 269,
     "metadata": {},
     "output_type": "execute_result"
    }
   ],
   "execution_count": 269
  }
 ],
 "metadata": {
  "kernelspec": {
   "display_name": "Python 3",
   "language": "python",
   "name": "python3"
  },
  "language_info": {
   "codemirror_mode": {
    "name": "ipython",
    "version": 2
   },
   "file_extension": ".py",
   "mimetype": "text/x-python",
   "name": "python",
   "nbconvert_exporter": "python",
   "pygments_lexer": "ipython2",
   "version": "2.7.6"
  }
 },
 "nbformat": 4,
 "nbformat_minor": 5
}
